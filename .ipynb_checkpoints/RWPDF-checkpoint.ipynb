{
 "cells": [
  {
   "cell_type": "markdown",
   "id": "eb0c4343-48c7-4b5a-81b0-0ec44456134f",
   "metadata": {},
   "source": [
    "# Read PACE4 Result and Write in Excel\n",
    "---\n",
    "\n",
    "Save PACE4 result as PDF"
   ]
  },
  {
   "cell_type": "code",
   "execution_count": 1,
   "id": "6da3b85b-0158-4135-95e7-9e1f259bbdba",
   "metadata": {},
   "outputs": [],
   "source": [
    "import pdfplumber\n",
    "import re\n",
    "import pandas as pd\n",
    "from openpyxl import load_workbook"
   ]
  },
  {
   "cell_type": "raw",
   "id": "9c444fee-d602-450c-bd36-402c5f2edc50",
   "metadata": {
    "scrolled": true
   },
   "source": [
    "with pdfplumber.open(\"/Users/yiyizhu/Packages/DoesCal/example/Kr84_Al27_420MeV.pdf\") as pdf:\n",
    "    #for page in pdf.pages:\n",
    "    for index, page in enumerate(pdf.pages):\n",
    "        print(f\"\\n\\n\\n\")\n",
    "        # Extract text from the page\n",
    "        text = page.extract_text()\n",
    "        print(f\"page{index}: {text}\")"
   ]
  },
  {
   "cell_type": "raw",
   "id": "70ef812f-6b3e-44be-b8ef-ff6c4cc90395",
   "metadata": {
    "jupyter": {
     "source_hidden": true
    }
   },
   "source": [
    "keywords = [\"Fusion xsection taken from Bass model\", \"Starting conditions\"]\n",
    "with pdfplumber.open(\"/Users/yiyizhu/Packages/DoesCal/example/Kr84_Al27_420MeV.pdf\") as pdf:\n",
    "    for page_num, page in enumerate(pdf.pages, start=1):\n",
    "        text = page.extract_text()\n",
    "        if text:\n",
    "            lines = text.split('\\n')\n",
    "            for i, line in enumerate(lines):\n",
    "                keyword = keywords[0]\n",
    "                if keyword.lower() in line.lower():\n",
    "                    print(f\"Keyword '{keyword}' found on page {page_num}\")\n",
    "                    if i + 1 < len(lines):\n",
    "                        print(f\"First line below keyword: {lines[i + 1]}\")\n",
    "                    else:\n",
    "                        print(\"No line found below the keyword.\")"
   ]
  },
  {
   "cell_type": "raw",
   "id": "47d50e79-4bc7-4f53-a2b5-126caac1c7ba",
   "metadata": {
    "jupyter": {
     "source_hidden": true
    }
   },
   "source": [
    "keywords = [\"Fusion xsection taken from Bass model\", \n",
    "            \"Starting conditions\"]\n",
    "\n",
    "# Read Pdf:\n",
    "with pdfplumber.open(\"/Users/yiyizhu/Packages/DoesCal/example/Kr84_Al27_420MeV.pdf\") as pdf:\n",
    "    print(f\"{pdf.pages[0]}\")\n",
    "    for page_num, page in enumerate(pdf.pages, start=1):\n",
    "        text = page.extract_text()\n",
    "        if text:\n",
    "            lines = text.split('\\n')\n",
    "            for i, line in enumerate(lines):\n",
    "                keyword = keywords[0]\n",
    "                if keyword.lower() in line.lower():\n",
    "                    if i + 1 < len(lines):\n",
    "                        next_line = lines[i+1]\n",
    "                        if \"MeV\" in next_line:\n",
    "                            match = re.search(r'(\\d+(\\.\\d+)?)\\s*MeV', next_line)\n",
    "                            if match:\n",
    "                                number = float(match.group(1))\n"
   ]
  },
  {
   "cell_type": "raw",
   "id": "a01e465a-06ec-4afc-a2f1-7e2127fcdf32",
   "metadata": {
    "collapsed": true,
    "jupyter": {
     "outputs_hidden": true,
     "source_hidden": true
    },
    "scrolled": true
   },
   "source": [
    "keywords = [\"Yields of residual nuclei\", \n",
    "            \"Angular distribution results\"]\n",
    "# Read Pdf:\n",
    "start_flag = False \n",
    "end_flag = False\n",
    "production_inf = []\n",
    "with pdfplumber.open(\"/Users/yiyizhu/Packages/DoesCal/example/Kr84_Al27_420MeV.pdf\") as pdf:\n",
    "    for page_num, page in enumerate(pdf.pages, start=1):\n",
    "        if start_flag and end_flag: break\n",
    "        text = page.extract_text()\n",
    "        if text:\n",
    "            lines = text.split('\\n')\n",
    "            for i, line in enumerate(lines):\n",
    "                if \"Yields of residual nuclei\" in line: \n",
    "                    start_flag = True\n",
    "                    continue\n",
    "                if \"Angular distribution results\" in line: \n",
    "                    end_flag = True\n",
    "                    break\n",
    "                if start_flag and not end_flag:\n",
    "                    #production_inf.append(' '.join(line.split()))\n",
    "                    production_inf.append(line.split())\n",
    "\n",
    "\n",
    "\n",
    "\n",
    "    \n",
    "for line in production_inf:\n",
    "    print(line)\n"
   ]
  },
  {
   "cell_type": "code",
   "execution_count": 2,
   "id": "53e35cd4-d9f8-4ade-9c6f-191597fb6206",
   "metadata": {},
   "outputs": [],
   "source": [
    "def Extract_CompoundInf(text):\n",
    "    # Return Values:\n",
    "    Coulomb_Barrier = -1\n",
    "    Center_Mass = -1\n",
    "    Recoil_Energy = -1\n",
    "    Beam_Energy = -1\n",
    "    \n",
    "    lines = text.split('\\n')\n",
    "    # loop all lines in this text(page)\n",
    "    for i, line in enumerate(lines):\n",
    "        if \"Bass fusion xsection for E = \" in line:\n",
    "            match = re.search(r'Bass fusion xsection for E = (\\d+(\\.\\d+)?)\\s*MeV', line)\n",
    "            if match:\n",
    "                Beam_Energy = float(match.group(1))\n",
    "                continue\n",
    "        if \"Barrier height\" in line:\n",
    "            match = re.search(r'Barrier height is (\\d+(\\.\\d+)?)\\s*MeV', line)\n",
    "            if match:\n",
    "                Coulomb_Barrier = float(match.group(1))\n",
    "                continue\n",
    "        if \"Center of mass energy (MeV)\" in line:\n",
    "            match = re.search(r'Center of mass energy \\(MeV\\)\\s*(\\d+(\\.\\d+)?)', line)\n",
    "            if match:\n",
    "                Center_Mass = float(match.group(1))\n",
    "                continue\n",
    "        if \"Compound nucleus recoil energy (MeV)\" in line:\n",
    "            match = re.search(r'Compound nucleus recoil energy \\(MeV\\)\\s*(\\d+(\\.\\d+)?)', line)\n",
    "            if match:\n",
    "                Recoil_Energy = float(match.group(1))\n",
    "                break\n",
    "\n",
    "    if Beam_Energy<0:\n",
    "        print(\"Beam energy NOT Found\")\n",
    "    if Coulomb_Barrier<0:\n",
    "        print(\"Barrier height NOT Found\")\n",
    "    if Center_Mass<0:\n",
    "        print(\"Center of mass energy NOT Found\")\n",
    "    if Recoil_Energy<0:\n",
    "        print(\"Compound nucleus recoil energy NOT Found\")\n",
    "    \n",
    "        \n",
    "    return Beam_Energy, Coulomb_Barrier, Center_Mass, Recoil_Energy"
   ]
  },
  {
   "cell_type": "code",
   "execution_count": 3,
   "id": "78d8e927-866b-4ca7-a685-98806e1f9ffd",
   "metadata": {},
   "outputs": [],
   "source": [
    "def Extract_ProductInf(pdf):\n",
    "    start_flag = False \n",
    "    end_flag = False\n",
    "    Production_Inf = []\n",
    "    for page_num, page in enumerate(pdf.pages[1:]):\n",
    "        if start_flag and end_flag: break\n",
    "        text = page.extract_text()\n",
    "        if text:\n",
    "            lines = text.split('\\n')\n",
    "            for i, line in enumerate(lines):\n",
    "                if \"Yields of residual nuclei\" in line: \n",
    "                    start_flag = True\n",
    "                    continue\n",
    "                if \"Angular distribution results\" in line: \n",
    "                    end_flag = True\n",
    "                    break\n",
    "                if start_flag and not end_flag:\n",
    "                    Production_Inf.append(line.split())\n",
    "    if not Production_Inf:\n",
    "        print(\"Yields of residual nuclei NOT Found\")\n",
    "    return Production_Inf"
   ]
  },
  {
   "cell_type": "code",
   "execution_count": 4,
   "id": "5ec9c865-b54f-445b-a817-10f207bb4926",
   "metadata": {},
   "outputs": [],
   "source": [
    "def Filter_Inf(Production):\n",
    "    # If production cross pages, there will be line written in \"Production\" with one element which returns page number\n",
    "    # So we need to delete it first\n",
    "    Production = [row for row in Production if len(row) > 1]\n",
    "\n",
    "    # Take out the last line which contains total information for the reaction\n",
    "    # Then delete it from \"Production\"\n",
    "    Total = Production[-1]\n",
    "    Production = Production[:-1]\n",
    "\n",
    "    # Add \"isotop for the Column name\"\n",
    "    Production[0].insert(3, \"isotope\")\n",
    "    \n",
    "    # Only Record Z, N, A, isotope, xsection information into Excel\n",
    "    # And convert all values to int or float\n",
    "    Production_Record = [[row[0], row[1], row[2], row[3], row[6]] for row in Production]\n",
    "    for row in Production_Record[1:]:\n",
    "        row[0] = int(row[0])  # Convert Z to int\n",
    "        row[1] = int(row[1])  # Convert N to int\n",
    "        row[2] = int(row[2])  # Convert A to int\n",
    "        row[4] = float(row[4])  # Convert x-section(mb) to float\n",
    "    \n",
    "    return Total, Production_Record"
   ]
  },
  {
   "cell_type": "raw",
   "id": "db0655e0-78e0-40d4-8b5c-bb56872bba9e",
   "metadata": {
    "scrolled": true
   },
   "source": [
    "def Write_Excel(Production_Record, Total, file_path, Beam_Energy=0, Recoil_Energy=0):\n",
    "    # Convert 1st row as headers, and rest of them recorded into DataFrame\n",
    "    df = pd.DataFrame(Production_Record[1:], columns=Production_Record[0])\n",
    "    # Create a new row for the DataFrame based on Total\n",
    "    total_row = pd.DataFrame({\n",
    "        'Z': [Total[0]],  # The first element of Total in 'Z' column\n",
    "        'x-section(mb)': [float(Total[-1])]  # The last element of Total in 'x-section(mb)' column\n",
    "    })\n",
    "    # Append the total_row to the DataFrame\n",
    "    df = pd.concat([df, total_row], ignore_index=True)\n",
    "\n",
    "    # Update the existing sheet \"Initial\" with recoil energy and total x-sec for th3 current beam energy\n",
    "    existing_df = pd.read_excel(file_path, sheet_name=\"Initial\", engine='openpyxl')\n",
    "    row_index = existing_df[existing_df[\"Beam Energy (MeV)\"] == Beam_Energy].index[0]\n",
    "    existing_df.at[row_index, \"Recoil Energy (MeV)\"] = Recoil_Energy\n",
    "    existing_df.at[row_index, \"Total xsec (mb)\"] = float(Total[-1])\n",
    "    \n",
    "    \n",
    "    with pd.ExcelWriter(file_path, mode='a', engine='openpyxl', if_sheet_exists='replace') as writer:\n",
    "        df.to_excel(writer, sheet_name=f'{Beam_Energy}MeV', index=False)\n",
    "        existing_df.to_excel(writer, sheet_name=\"Initial\", index=False)"
   ]
  },
  {
   "cell_type": "code",
   "execution_count": 86,
   "id": "8a97fff5-fad7-4244-b1b2-7a6c0e3b2d65",
   "metadata": {},
   "outputs": [
    {
     "ename": "TypeError",
     "evalue": "argument of type 'NoneType' is not iterable",
     "output_type": "error",
     "traceback": [
      "\u001b[0;31m---------------------------------------------------------------------------\u001b[0m",
      "\u001b[0;31mTypeError\u001b[0m                                 Traceback (most recent call last)",
      "Cell \u001b[0;32mIn[86], line 15\u001b[0m\n\u001b[1;32m     13\u001b[0m \u001b[38;5;66;03m# Write Production Info into Excel:\u001b[39;00m\n\u001b[1;32m     14\u001b[0m file_path \u001b[38;5;241m=\u001b[39m \u001b[38;5;124m\"\u001b[39m\u001b[38;5;124m/Users/yiyizhu/Packages/DoesCal/example/DoesCal.xlsx\u001b[39m\u001b[38;5;124m\"\u001b[39m\n\u001b[0;32m---> 15\u001b[0m \u001b[43mWrite_Excel\u001b[49m\u001b[43m(\u001b[49m\u001b[43mProduction_Record\u001b[49m\u001b[43m,\u001b[49m\u001b[43m \u001b[49m\u001b[43mTotal\u001b[49m\u001b[43m,\u001b[49m\u001b[43m \u001b[49m\u001b[43mfile_path\u001b[49m\u001b[43m,\u001b[49m\u001b[43m \u001b[49m\u001b[43mBeam_Energy\u001b[49m\u001b[43m,\u001b[49m\u001b[43m \u001b[49m\u001b[43mRecoil_Energy\u001b[49m\u001b[43m)\u001b[49m    \n",
      "Cell \u001b[0;32mIn[85], line 22\u001b[0m, in \u001b[0;36mWrite_Excel\u001b[0;34m(Production_Record, Total, file_path, Beam_Energy, Recoil_Energy)\u001b[0m\n\u001b[1;32m     20\u001b[0m existing_df \u001b[38;5;241m=\u001b[39m existing_df[\u001b[38;5;241m1\u001b[39m:]  \n\u001b[1;32m     21\u001b[0m \u001b[38;5;66;03m# Locate the column name containing \"Beam Energy\"\u001b[39;00m\n\u001b[0;32m---> 22\u001b[0m beam_energy_column \u001b[38;5;241m=\u001b[39m \u001b[38;5;28;43mnext\u001b[39;49m\u001b[43m(\u001b[49m\u001b[43mcol\u001b[49m\u001b[43m \u001b[49m\u001b[38;5;28;43;01mfor\u001b[39;49;00m\u001b[43m \u001b[49m\u001b[43mcol\u001b[49m\u001b[43m \u001b[49m\u001b[38;5;129;43;01min\u001b[39;49;00m\u001b[43m \u001b[49m\u001b[43mexisting_df\u001b[49m\u001b[38;5;241;43m.\u001b[39;49m\u001b[43mcolumns\u001b[49m\u001b[43m \u001b[49m\u001b[38;5;28;43;01mif\u001b[39;49;00m\u001b[43m \u001b[49m\u001b[38;5;124;43m\"\u001b[39;49m\u001b[38;5;124;43mBeam Energy\u001b[39;49m\u001b[38;5;124;43m\"\u001b[39;49m\u001b[43m \u001b[49m\u001b[38;5;129;43;01min\u001b[39;49;00m\u001b[43m \u001b[49m\u001b[43mcol\u001b[49m\u001b[43m)\u001b[49m\n\u001b[1;32m     23\u001b[0m \u001b[38;5;66;03m# Remove the header row\u001b[39;00m\n\u001b[1;32m     24\u001b[0m \u001b[38;5;66;03m#row_index = existing_df[existing_df[beam_energy_column] == Beam_Energy].index[0]\u001b[39;00m\n\u001b[1;32m     25\u001b[0m \u001b[38;5;66;03m#print(row_index)\u001b[39;00m\n\u001b[0;32m   (...)\u001b[0m\n\u001b[1;32m     29\u001b[0m \u001b[38;5;66;03m#existing_sheet.cell(row=row_index, column=\"Total xsec (mb)\").value = float(Total[-1])\u001b[39;00m\n\u001b[1;32m     30\u001b[0m \u001b[38;5;66;03m# Save the workbook without changing the existing formatting\u001b[39;00m\n\u001b[1;32m     31\u001b[0m workbook\u001b[38;5;241m.\u001b[39msave(file_path)\n",
      "Cell \u001b[0;32mIn[85], line 22\u001b[0m, in \u001b[0;36m<genexpr>\u001b[0;34m(.0)\u001b[0m\n\u001b[1;32m     20\u001b[0m existing_df \u001b[38;5;241m=\u001b[39m existing_df[\u001b[38;5;241m1\u001b[39m:]  \n\u001b[1;32m     21\u001b[0m \u001b[38;5;66;03m# Locate the column name containing \"Beam Energy\"\u001b[39;00m\n\u001b[0;32m---> 22\u001b[0m beam_energy_column \u001b[38;5;241m=\u001b[39m \u001b[38;5;28mnext\u001b[39m(col \u001b[38;5;28;01mfor\u001b[39;00m col \u001b[38;5;129;01min\u001b[39;00m existing_df\u001b[38;5;241m.\u001b[39mcolumns \u001b[38;5;28;01mif\u001b[39;00m \u001b[38;5;124;43m\"\u001b[39;49m\u001b[38;5;124;43mBeam Energy\u001b[39;49m\u001b[38;5;124;43m\"\u001b[39;49m\u001b[43m \u001b[49m\u001b[38;5;129;43;01min\u001b[39;49;00m\u001b[43m \u001b[49m\u001b[43mcol\u001b[49m)\n\u001b[1;32m     23\u001b[0m \u001b[38;5;66;03m# Remove the header row\u001b[39;00m\n\u001b[1;32m     24\u001b[0m \u001b[38;5;66;03m#row_index = existing_df[existing_df[beam_energy_column] == Beam_Energy].index[0]\u001b[39;00m\n\u001b[1;32m     25\u001b[0m \u001b[38;5;66;03m#print(row_index)\u001b[39;00m\n\u001b[0;32m   (...)\u001b[0m\n\u001b[1;32m     29\u001b[0m \u001b[38;5;66;03m#existing_sheet.cell(row=row_index, column=\"Total xsec (mb)\").value = float(Total[-1])\u001b[39;00m\n\u001b[1;32m     30\u001b[0m \u001b[38;5;66;03m# Save the workbook without changing the existing formatting\u001b[39;00m\n\u001b[1;32m     31\u001b[0m workbook\u001b[38;5;241m.\u001b[39msave(file_path)\n",
      "\u001b[0;31mTypeError\u001b[0m: argument of type 'NoneType' is not iterable"
     ]
    }
   ],
   "source": [
    "# Read Pdf:\n",
    "with pdfplumber.open(\"/Users/yiyizhu/Packages/DoesCal/example/PACE4/Kr84_Al27_420MeV.pdf\") as pdf:\n",
    "    # Extract basic information for this reaction\n",
    "    page = pdf.pages[0]\n",
    "    text = page.extract_text()\n",
    "    Beam_Energy, Coulomb_Barrier, Center_Mass, Recoil_Energy = Extract_CompoundInf(text)\n",
    "    # Extract info for productions from the reaction\n",
    "    Production = Extract_ProductInf(pdf)\n",
    "\n",
    "# Filter Production info to write them into Spreadsheet\n",
    "Total, Production_Record = Filter_Inf(Production)\n",
    "\n",
    "# Write Production Info into Excel:\n",
    "file_path = \"/Users/yiyizhu/Packages/DoesCal/example/DoesCal.xlsx\"\n",
    "Write_Excel(Production_Record, Total, file_path, Beam_Energy, Recoil_Energy)    "
   ]
  },
  {
   "cell_type": "code",
   "execution_count": null,
   "id": "2ee2f259-63c5-4955-8bf7-8ac13a37b19c",
   "metadata": {},
   "outputs": [],
   "source": []
  }
 ],
 "metadata": {
  "kernelspec": {
   "display_name": "Python 3 (ipykernel)",
   "language": "python",
   "name": "python3"
  },
  "language_info": {
   "codemirror_mode": {
    "name": "ipython",
    "version": 3
   },
   "file_extension": ".py",
   "mimetype": "text/x-python",
   "name": "python",
   "nbconvert_exporter": "python",
   "pygments_lexer": "ipython3",
   "version": "3.12.0"
  }
 },
 "nbformat": 4,
 "nbformat_minor": 5
}
