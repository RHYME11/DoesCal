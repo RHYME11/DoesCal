{
 "cells": [
  {
   "cell_type": "markdown",
   "id": "2336f842-091e-4f4f-af26-865f6fde55b6",
   "metadata": {},
   "source": [
    "## Calculate the production rate\n",
    "---\n",
    "1. Read information from Sheet \"Initial\"\n",
    "2. Calculate production rates in each sub Sheet\n",
    "\n",
    "* Be really really careful on unit, the current code is based on unit:\n",
    "  1. thickness: mg/cm2;\n",
    "  2. molar mass: g;\n",
    "  3. x-section: mb;\n",
    "  4. beam rate: pps;"
   ]
  },
  {
   "cell_type": "code",
   "execution_count": 8,
   "id": "eed75276-023e-4473-9373-b4e361554329",
   "metadata": {},
   "outputs": [],
   "source": [
    "import pdfplumber\n",
    "import os\n",
    "import re\n",
    "import pandas as pd\n",
    "from openpyxl import load_workbook\n",
    "from openpyxl.utils import get_column_letter\n",
    "from openpyxl.styles import Font, PatternFill, Border, Alignment"
   ]
  },
  {
   "cell_type": "markdown",
   "id": "d9636779-6505-4fcb-8811-14763af7f2c3",
   "metadata": {},
   "source": [
    "### Read Sheet \"Initial\":\n",
    "1. thickness in \"mg/cm2\";\n",
    "2. molar mass in \"g\"\n",
    "3. beam rate in \"pps\""
   ]
  },
  {
   "cell_type": "raw",
   "id": "f791c866-9e68-4e3f-98bb-bd4e1a39ad1e",
   "metadata": {
    "jupyter": {
     "source_hidden": true
    }
   },
   "source": [
    "excel_path = '/Users/yiyizhu/Packages/DoesCal/example/DoesCal.xlsx'\n",
    "sheets = pd.read_excel(excel_path, sheet_name=None)  # Load all sheets\n",
    "df = sheets[\"Initial\"]\n",
    "target_col_index = df.columns.get_loc('Target')\n",
    "target_col_name = df.columns[target_col_index]\n",
    "target_col_data = df[target_col_name]\n",
    "\n",
    "# Locate the row where \"mg/cm²\" is found in the column at target_col_index + 2\n",
    "row_index = df[df.iloc[:, target_col_index + 2] == 'mg/cm2'].index[0]\n",
    "\n",
    "# Read the value from the same row but in the column at target_col_index + 1\n",
    "value = df.iloc[row_index, target_col_index + 1]\n"
   ]
  },
  {
   "cell_type": "code",
   "execution_count": 29,
   "id": "e156a8db-5bbf-4671-9d37-dc34854c8d9c",
   "metadata": {},
   "outputs": [],
   "source": [
    "def ReadInitial(excel_path):\n",
    "    sheets = pd.read_excel(excel_path, sheet_name=None)  # Load all sheets\n",
    "    df = sheets[\"Initial\"]\n",
    "    \n",
    "    # locate the target info\n",
    "    target_col_index = df.columns.get_loc('Target')\n",
    "    thick_row_idx = df[df.iloc[:, target_col_index + 2] == 'mg/cm2'].index[0]\n",
    "    thick_tot = df.iloc[thick_row_idx, target_col_index + 1]\n",
    "    mass_row_idx = df[df.iloc[:, target_col_index + 2] == 'g'].index[0]\n",
    "    mass = df.iloc[mass_row_idx, target_col_index + 1]\n",
    "\n",
    "    # locate the beam info\n",
    "    beam_col_index = df.columns.get_loc('Beam')\n",
    "    rate_row_idx = df[df.iloc[:, beam_col_index + 2] == 'pps'].index[0]\n",
    "    rate = df.iloc[rate_row_idx, beam_col_index + 1]\n",
    "\n",
    "    return thick_tot, mass, rate"
   ]
  },
  {
   "cell_type": "markdown",
   "id": "e2a44ec0-5375-46ac-a77b-8e534226affa",
   "metadata": {},
   "source": [
    "### Calculate production rate in on Sheet"
   ]
  },
  {
   "cell_type": "raw",
   "id": "99bc387d-a86a-42f8-94a9-efc450da48cd",
   "metadata": {
    "jupyter": {
     "source_hidden": true
    }
   },
   "source": [
    "excel_path = '/Users/yiyizhu/Packages/DoesCal/example/DoesCal.xlsx'\n",
    "sheets = pd.read_excel(excel_path, sheet_name=None)  # Load all sheets\n",
    "df = sheets[\"0um_420MeV\"]\n",
    "thick_tot, mass, rate = ReadInitial(excel_path)\n",
    "\n",
    "if \"Prodx_Rate(pps)\" not in df.columns:\n",
    "    df[\"Prodx_Rate(pps)\"] = -1.0\n",
    "for idx in range(len(df)):\n",
    "    xsec = df.at[idx,'x-section(mb)']\n",
    "    # Eqn: prodx_rate = xsec(m2) * unit_thick(g/m2) / mass(g) *rate (atom/s)\n",
    "    # 1 mb = 1e-3 barn = 1e-3 * 1e-28 m2\n",
    "    # 1 mg/cm2 = 10 g/m2\n",
    "    df.at[idx,'Prodx_Rate(pps)'] = (xsec/1e3/1e28)*((thick_tot/5)*10)/mass*rate"
   ]
  },
  {
   "cell_type": "code",
   "execution_count": 30,
   "id": "b863aeff-0490-4fa6-bbbf-792ab0c4ecdc",
   "metadata": {},
   "outputs": [],
   "source": [
    "def Cal_Prodx_Rate(df, thick_tot, mass, rate):\n",
    "    if \"Prodx_Rate(pps)\" not in df.columns:\n",
    "        df[\"Prodx_Rate(pps)\"] = -1.0\n",
    "    for idx in range(len(df)):\n",
    "        xsec = df.at[idx,'x-section(mb)']\n",
    "        # Eqn: prodx_rate = xsec(m2) * unit_thick(g/m2) / mass(g) *rate (atom/s)\n",
    "        # 1 mb = 1e-3 barn = 1e-3 * 1e-28 m2\n",
    "        # 1 mg/cm2 = 10 g/m2\n",
    "        df.at[idx,'Prodx_Rate(pps)'] = (xsec/1e3/1e28)*((thick_tot/5)*10)/mass*rate\n",
    "    return df"
   ]
  },
  {
   "cell_type": "markdown",
   "id": "591d55e7-ab87-4e9b-aba0-3fdaa100dac8",
   "metadata": {},
   "source": [
    "### Update all sheets in Excel"
   ]
  },
  {
   "cell_type": "raw",
   "id": "5d5866f5-daa3-4de6-8f78-d44f2ae19c00",
   "metadata": {},
   "source": [
    "thick_tot, mass, rate = ReadInitial(excel_path)\n",
    "excel_path = '/Users/yiyizhu/Packages/DoesCal/example/DoesCal.xlsx'\n",
    "workbook = load_workbook(excel_path)\n",
    "sheet_names = workbook.sheetnames   \n",
    "# Iterate over all sheets and call Fill_HalfLife_Sheet() if the sheet name includes \"MeV\"\n",
    "for sheet_name in sheet_names:\n",
    "    if \"MeV\" in sheet_name:\n",
    "        df = sheets[sheet_name]\n",
    "        df = Cal_Prodx_Rate(df, thick_tot, mass, rate)\n",
    "        # Save df back to Excel\n",
    "        with pd.ExcelWriter(excel_path, engine='openpyxl', mode='a', if_sheet_exists='replace') as writer:\n",
    "            df.to_excel(writer, sheet_name=sheet_name, index=False)\n",
    "        # Reopen the workbook to apply formatting\n",
    "        workbook = load_workbook(excel_path)\n",
    "        # Set column width and alignment for the new sheet\n",
    "        worksheet = workbook[sheet_name]\n",
    "        for column in worksheet.columns:\n",
    "            column_letter = column[0].column_letter\n",
    "            worksheet.column_dimensions[column_letter].width = 16\n",
    "            for cell in column:  # Align each cell in the column\n",
    "                cell.alignment = Alignment(horizontal='right')\n",
    "        # Save the workbook\n",
    "        workbook.save(excel_path)"
   ]
  },
  {
   "cell_type": "code",
   "execution_count": 35,
   "id": "f8e80e5c-9f4c-4f57-acd9-0a827d0c98c8",
   "metadata": {},
   "outputs": [],
   "source": [
    "def Write_Prodx_Rate(excel_path):\n",
    "    thick_tot, mass, rate = ReadInitial(excel_path)\n",
    "    \n",
    "    workbook = load_workbook(excel_path)\n",
    "    sheet_names = workbook.sheetnames   \n",
    "    # Iterate over all sheets and call Fill_HalfLife_Sheet() if the sheet name includes \"MeV\"\n",
    "    for sheet_name in sheet_names:\n",
    "        if \"MeV\" in sheet_name:\n",
    "            df = sheets[sheet_name]\n",
    "            df = Cal_Prodx_Rate(df, thick_tot, mass, rate)\n",
    "            # Save df back to Excel\n",
    "            with pd.ExcelWriter(excel_path, engine='openpyxl', mode='a', if_sheet_exists='replace') as writer:\n",
    "                df.to_excel(writer, sheet_name=sheet_name, index=False)\n",
    "            # Reopen the workbook to apply formatting\n",
    "            workbook = load_workbook(excel_path)\n",
    "            # Set column width and alignment for the new sheet\n",
    "            worksheet = workbook[sheet_name]\n",
    "            for column in worksheet.columns:\n",
    "                column_letter = column[0].column_letter\n",
    "                worksheet.column_dimensions[column_letter].width = 16\n",
    "                for cell in column:  # Align each cell in the column\n",
    "                    cell.alignment = Alignment(horizontal='right')\n",
    "            # Save the workbook\n",
    "            workbook.save(excel_path)"
   ]
  },
  {
   "cell_type": "code",
   "execution_count": 36,
   "id": "35b86d74-604e-4fad-9b02-59fd222979f8",
   "metadata": {},
   "outputs": [],
   "source": [
    "excel_path = '/Users/yiyizhu/Packages/DoesCal/example/DoesCal.xlsx'\n",
    "Write_Prodx_Rate(excel_path)"
   ]
  },
  {
   "cell_type": "code",
   "execution_count": null,
   "id": "345951ec-fb42-440f-ba47-1d6d38b38588",
   "metadata": {},
   "outputs": [],
   "source": []
  }
 ],
 "metadata": {
  "kernelspec": {
   "display_name": "Python 3 (ipykernel)",
   "language": "python",
   "name": "python3"
  },
  "language_info": {
   "codemirror_mode": {
    "name": "ipython",
    "version": 3
   },
   "file_extension": ".py",
   "mimetype": "text/x-python",
   "name": "python",
   "nbconvert_exporter": "python",
   "pygments_lexer": "ipython3",
   "version": "3.12.0"
  }
 },
 "nbformat": 4,
 "nbformat_minor": 5
}
