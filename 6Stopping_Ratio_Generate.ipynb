{
 "cells": [
  {
   "cell_type": "markdown",
   "id": "3f1cd57a-7499-40b1-982d-b32fe75ac42d",
   "metadata": {},
   "source": [
    "## Generate Stopping Ratio:\n",
    "---\n",
    "1. Currently, set stopping ratios for all isotopes under all cases are 1, which means all productions will stop in the target;\n",
    "2. Generate values and save into Excel and create txt foils (optional, named with sub sheet name):\n",
    "\n",
    "+ ToDo:\n",
    "Either SRIM results or GEANT4 codes for thses values, based on recoil energy and the rest of thickness"
   ]
  },
  {
   "cell_type": "code",
   "execution_count": 1,
   "id": "d8aa9f76-dc03-4d3c-a7b9-0a9076359823",
   "metadata": {},
   "outputs": [],
   "source": [
    "import pdfplumber\n",
    "import os\n",
    "import re\n",
    "import pandas as pd\n",
    "from openpyxl import load_workbook\n",
    "from openpyxl.utils import get_column_letter\n",
    "from openpyxl.styles import Font, PatternFill, Border, Alignment"
   ]
  },
  {
   "cell_type": "raw",
   "id": "5f8fa521-5adf-4b56-a426-99b62eb3c52f",
   "metadata": {
    "jupyter": {
     "source_hidden": true
    }
   },
   "source": [
    "excel_path = \"example/DoesCal.xlsx\"\n",
    "sheets = pd.read_excel(excel_path, sheet_name=None)\n",
    "workbook = load_workbook(excel_path)\n",
    "sheet_names = workbook.sheetnames\n",
    "sheet_name = \"0um_420MeV\"\n",
    "df = sheets[sheet_name]\n",
    "\n",
    "if \"Stop_Ratio\" not in df.columns:\n",
    "    df[\"Stop_Ratio\"] = 1\n",
    "\n",
    "with pd.ExcelWriter(excel_path, engine='openpyxl', mode='a', if_sheet_exists='replace') as writer:\n",
    "    df.to_excel(writer, sheet_name=sheet_name, index=False)\n",
    "# Reopen the workbook to apply formatting\n",
    "workbook = load_workbook(excel_path)\n",
    "# Set column width and alignment for the new sheet\n",
    "worksheet = workbook[sheet_name]\n",
    "for column in worksheet.columns:\n",
    "    column_letter = column[0].column_letter\n",
    "    worksheet.column_dimensions[column_letter].width = 16\n",
    "    for cell in column:  # Align each cell in the column\n",
    "        cell.alignment = Alignment(horizontal='right')\n",
    "# Save the workbook\n",
    "workbook.save(excel_path)\n",
    "\n",
    "    "
   ]
  },
  {
   "cell_type": "raw",
   "id": "c9c79172-643a-4ea0-a32a-40f306ed2644",
   "metadata": {
    "jupyter": {
     "source_hidden": true
    }
   },
   "source": [
    "# Exclude the last line and extract the relevant columns\n",
    "df_selected = df.iloc[:-1][['A', 'isotope', 'Recoil_E(MeV)', 'Stop_Ratio']].copy()\n",
    "df_selected['A'] = df_selected['A'].astype(int)\n",
    "df_selected['Recoil_E(MeV)'] = df_selected['Recoil_E(MeV)'].round(2)\n",
    "df_selected['Stop_Ratio'] = df_selected['Stop_Ratio'].round(2)\n",
    "\n",
    "txt_to_write = df_selected.values.tolist()\n",
    "\n",
    "txt_to_write.insert(0, [\"A\", \"isotope\", \"Recoil_E(MeV)\", \"Stop_Ratio\"])\n",
    "\n",
    "# Get the sheet name to use for the file name\n",
    "sheet_name = \"0um_420MeV\"  # Replace with the actual sheet name if it's dynamic\n",
    "file_suffix = sheet_name.split('_')[0]  # Extract the \"0um\" part\n",
    "\n",
    "# Define the file name\n",
    "file_name = f\"Stop_Ratio_{file_suffix}.txt\"\n",
    "\n",
    "# Define the width for each column\n",
    "column_widths = [0, 15, 15, 15]  # Adjust these values as needed\n",
    "\n",
    "# Write the 2D array to the text file\n",
    "with open(file_name, 'w') as file:\n",
    "    for row in txt_to_write:\n",
    "        centered_row = ''.join(str(item).center(width) for item, width in zip(row, column_widths))\n",
    "        file.write(centered_row + '\\n')\n",
    "\n"
   ]
  },
  {
   "cell_type": "code",
   "execution_count": 34,
   "id": "6260d231-fdad-4dd5-991c-102fd7e903e4",
   "metadata": {},
   "outputs": [],
   "source": [
    "def Generate_Stop_Ratio(excel_path):\n",
    "    sheets = pd.read_excel(excel_path, sheet_name=None)\n",
    "    workbook = load_workbook(excel_path)\n",
    "    sheet_names = workbook.sheetnames\n",
    "    for sheet_name in sheet_names:\n",
    "        if \"MeV\" in sheet_name:\n",
    "            df = sheets[sheet_name]\n",
    "            if \"Stop_Ratio\" not in df.columns:\n",
    "                df[\"Stop_Ratio\"] = 1\n",
    "            else: return \n",
    "            with pd.ExcelWriter(excel_path, engine='openpyxl', mode='a', if_sheet_exists='replace') as writer:\n",
    "                df.to_excel(writer, sheet_name=sheet_name, index=False)\n",
    "            # Reopen the workbook to apply formatting\n",
    "            workbook = load_workbook(excel_path)\n",
    "            # Set column width and alignment for the new sheet\n",
    "            worksheet = workbook[sheet_name]\n",
    "            for column in worksheet.columns:\n",
    "                column_letter = column[0].column_letter\n",
    "                worksheet.column_dimensions[column_letter].width = 16\n",
    "            for cell in column:  # Align each cell in the column\n",
    "                cell.alignment = Alignment(horizontal='right')\n",
    "            # Save the workbook\n",
    "            workbook.save(excel_path)\n",
    "            \n",
    "    "
   ]
  },
  {
   "cell_type": "code",
   "execution_count": 35,
   "id": "63a8f276-fc23-45b5-ad6b-311c70cba11f",
   "metadata": {},
   "outputs": [],
   "source": [
    "excel_path = \"example/DoesCal.xlsx\"\n",
    "Generate_Stop_Ratio(excel_path)"
   ]
  },
  {
   "cell_type": "code",
   "execution_count": null,
   "id": "e19562e6-4e6e-4df2-af15-9011b7a46552",
   "metadata": {},
   "outputs": [],
   "source": []
  }
 ],
 "metadata": {
  "kernelspec": {
   "display_name": "Python 3 (ipykernel)",
   "language": "python",
   "name": "python3"
  },
  "language_info": {
   "codemirror_mode": {
    "name": "ipython",
    "version": 3
   },
   "file_extension": ".py",
   "mimetype": "text/x-python",
   "name": "python",
   "nbconvert_exporter": "python",
   "pygments_lexer": "ipython3",
   "version": "3.12.0"
  }
 },
 "nbformat": 4,
 "nbformat_minor": 5
}
