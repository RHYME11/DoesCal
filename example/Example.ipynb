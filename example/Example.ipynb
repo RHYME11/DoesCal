{
 "cells": [
  {
   "cell_type": "markdown",
   "id": "1115c719-6fa4-45d2-b840-05228b636518",
   "metadata": {},
   "source": [
    "## Step 1: Fill Excel (\"DoesCal.xlsx\"):\n",
    "    In Sheet \"Initial\", fill all cells in yellow with fixed units.\n",
    "\n",
    "## Step 2: Save PACE4 results in Folder \"PACE4\":\n",
    "    Make sure the beam energy for PACE4 is same as the one in Excel Sheet \"Initial\"\n",
    "\n",
    "## Step 3: Run the code to copy info from PACE4 result to \"DoesCal.xlsx\""
   ]
  },
  {
   "cell_type": "code",
   "execution_count": 1,
   "id": "2f23e002-e94a-44f7-ab1b-c6ce67c0bd06",
   "metadata": {
    "jupyter": {
     "source_hidden": true
    }
   },
   "outputs": [],
   "source": [
    "import pdfplumber\n",
    "import os\n",
    "import re\n",
    "import pandas as pd\n",
    "from openpyxl import load_workbook\n",
    "from openpyxl.utils import get_column_letter\n",
    "from openpyxl.styles import Alignment  # Ensure Alignment is imported"
   ]
  },
  {
   "cell_type": "markdown",
   "id": "b6b923e5-f4b3-410f-8043-799853298a49",
   "metadata": {},
   "source": [
    "#### Code: extract Compound Info from PDF"
   ]
  },
  {
   "cell_type": "code",
   "execution_count": 2,
   "id": "98f30c4b-e0b6-4b8f-82d6-02d289ef6174",
   "metadata": {
    "jupyter": {
     "source_hidden": true
    }
   },
   "outputs": [],
   "source": [
    "def Extract_CompoundInf(text):\n",
    "    # Return Values:\n",
    "    Coulomb_Barrier = -1\n",
    "    Center_Mass = -1\n",
    "    Recoil_Energy = -1\n",
    "    Beam_Energy = -1\n",
    "    \n",
    "    lines = text.split('\\n')\n",
    "    # loop all lines in this text(page)\n",
    "    for i, line in enumerate(lines):\n",
    "        if \"Bass fusion xsection for E = \" in line:\n",
    "            match = re.search(r'Bass fusion xsection for E = (\\d+(\\.\\d+)?)\\s*MeV', line)\n",
    "            if match:\n",
    "                Beam_Energy = float(match.group(1))\n",
    "                continue\n",
    "        if \"Barrier height\" in line:\n",
    "            match = re.search(r'Barrier height is (\\d+(\\.\\d+)?)\\s*MeV', line)\n",
    "            if match:\n",
    "                Coulomb_Barrier = float(match.group(1))\n",
    "                continue\n",
    "        if \"Center of mass energy (MeV)\" in line:\n",
    "            match = re.search(r'Center of mass energy \\(MeV\\)\\s*(\\d+(\\.\\d+)?)', line)\n",
    "            if match:\n",
    "                Center_Mass = float(match.group(1))\n",
    "                continue\n",
    "        if \"Compound nucleus recoil energy (MeV)\" in line:\n",
    "            match = re.search(r'Compound nucleus recoil energy \\(MeV\\)\\s*(\\d+(\\.\\d+)?)', line)\n",
    "            if match:\n",
    "                Recoil_Energy = float(match.group(1))\n",
    "                break\n",
    "\n",
    "    if Beam_Energy<0:\n",
    "        print(\"Beam energy NOT Found\")\n",
    "    if Coulomb_Barrier<0:\n",
    "        print(\"Barrier height NOT Found\")\n",
    "    if Center_Mass<0:\n",
    "        print(\"Center of mass energy NOT Found\")\n",
    "    if Recoil_Energy<0:\n",
    "        print(\"Compound nucleus recoil energy NOT Found\")\n",
    "    \n",
    "        \n",
    "    return Beam_Energy, Coulomb_Barrier, Center_Mass, Recoil_Energy"
   ]
  },
  {
   "cell_type": "markdown",
   "id": "0ce3598a-3c49-41fc-836d-c585ad5c8846",
   "metadata": {},
   "source": [
    "#### Code: extract Production Info from PDF"
   ]
  },
  {
   "cell_type": "code",
   "execution_count": 3,
   "id": "532058f5-b1cb-4242-b286-bf303f9ba82f",
   "metadata": {
    "jupyter": {
     "source_hidden": true
    }
   },
   "outputs": [],
   "source": [
    "def Extract_ProductInf(pdf):\n",
    "    start_flag = False \n",
    "    end_flag = False\n",
    "    Production_Inf = []\n",
    "    for page_num, page in enumerate(pdf.pages[1:]):\n",
    "        if start_flag and end_flag: break\n",
    "        text = page.extract_text()\n",
    "        if text:\n",
    "            lines = text.split('\\n')\n",
    "            for i, line in enumerate(lines):\n",
    "                if \"Yields of residual nuclei\" in line: \n",
    "                    start_flag = True\n",
    "                    continue\n",
    "                if \"Angular distribution results\" in line: \n",
    "                    end_flag = True\n",
    "                    break\n",
    "                if start_flag and not end_flag:\n",
    "                    Production_Inf.append(line.split())\n",
    "    if not Production_Inf:\n",
    "        print(\"Yields of residual nuclei NOT Found\")\n",
    "    return Production_Inf"
   ]
  },
  {
   "cell_type": "markdown",
   "id": "d8e23e8f-0c02-40aa-8c11-362270f494f8",
   "metadata": {},
   "source": [
    "#### Code: filter Production Info"
   ]
  },
  {
   "cell_type": "code",
   "execution_count": 4,
   "id": "d3a36d49-989a-414b-aff2-b60206cf8d8c",
   "metadata": {
    "jupyter": {
     "source_hidden": true
    }
   },
   "outputs": [],
   "source": [
    "def Filter_Inf(Production):\n",
    "    # If production cross pages, there will be line written in \"Production\" with one element which returns page number\n",
    "    # So we need to delete it first\n",
    "    Production = [row for row in Production if len(row) > 1]\n",
    "\n",
    "    # Take out the last line which contains total information for the reaction\n",
    "    # Then delete it from \"Production\"\n",
    "    Total = Production[-1]\n",
    "    Production = Production[:-1]\n",
    "\n",
    "    # Add \"isotop for the Column name\"\n",
    "    Production[0].insert(3, \"isotope\")\n",
    "    \n",
    "    # Only Record Z, N, A, isotope, xsection information into Excel\n",
    "    # And convert all values to int or float\n",
    "    Production_Record = [[row[0], row[1], row[2], row[3], row[6]] for row in Production]\n",
    "    for row in Production_Record[1:]:\n",
    "        row[0] = int(row[0])  # Convert Z to int\n",
    "        row[1] = int(row[1])  # Convert N to int\n",
    "        row[2] = int(row[2])  # Convert A to int\n",
    "        row[4] = float(row[4])  # Convert x-section(mb) to float\n",
    "    \n",
    "    return Total, Production_Record"
   ]
  },
  {
   "cell_type": "markdown",
   "id": "3e62c8d6-f23a-4d80-b19b-d3160c84d82c",
   "metadata": {},
   "source": [
    "#### Code: write info to excel"
   ]
  },
  {
   "cell_type": "code",
   "execution_count": 5,
   "id": "22823643-93dc-4fde-aaa0-e8ec862384bf",
   "metadata": {
    "jupyter": {
     "source_hidden": true
    }
   },
   "outputs": [],
   "source": [
    "def Write_Excel(Production_Record, Total, file_path, Beam_Energy=0, Recoil_Energy=0):\n",
    "    #================== Update \"Initial\" sheet ================#\n",
    "    # Load the existing workbook and the \"Initial\" sheet\n",
    "    workbook = load_workbook(file_path)\n",
    "    existing_df = pd.read_excel(file_path, sheet_name=\"Initial\", engine='openpyxl')\n",
    "    \n",
    "    # Update the existing DataFrame with recoil energy and total x-sec for the current beam energy\n",
    "    row_index = existing_df[existing_df[\"Beam Energy (MeV)\"] == Beam_Energy].index[0]\n",
    "    existing_df.at[row_index, \"Recoil Energy (MeV)\"] = Recoil_Energy\n",
    "    existing_df.at[row_index, \"Total xsec (mb)\"] = float(Total[-1])\n",
    "\n",
    "    # Write the updated DataFrame back to the \"Initial\" sheet\n",
    "    existing_worksheet = workbook[\"Initial\"] \n",
    "    for row in range(len(existing_df)):\n",
    "        for col in range(len(existing_df.columns)):\n",
    "            existing_worksheet.cell(row=row + 2, column=col + 1, value=existing_df.iat[row, col])  # +2 to account for header\n",
    "    # Save the workbook after updating the existing sheet\n",
    "    workbook.save(file_path)\n",
    "\n",
    "    #================== Create new sheet for PACE4 result ================#\n",
    "    # Convert the first row as headers and the rest recorded into DataFrame\n",
    "    df = pd.DataFrame(Production_Record[1:], columns=Production_Record[0])\n",
    "    \n",
    "    # Create a new row for the DataFrame based on Total\n",
    "    total_row = pd.DataFrame({\n",
    "        'Z': [Total[0]],  # The first element of Total in 'Z' column\n",
    "        'x-section(mb)': [float(Total[-1])]  # The last element of Total in 'x-section(mb)' column\n",
    "    })\n",
    "    \n",
    "    # Append the total_row to the DataFrame\n",
    "    df = pd.concat([df, total_row], ignore_index=True)\n",
    "    \n",
    "    # Create a new sheet name based on Beam Energy\n",
    "    new_sheet_name = f'{Beam_Energy}MeV'\n",
    "\n",
    "    # Now create the new sheet with the updated DataFrame\n",
    "    with pd.ExcelWriter(file_path, mode='a', engine='openpyxl', if_sheet_exists='replace') as writer:\n",
    "        df.to_excel(writer, sheet_name=new_sheet_name, index=False)\n",
    "\n",
    "    # Reopen the workbook to apply formatting\n",
    "    workbook = load_workbook(file_path)\n",
    "\n",
    "    # Set column width and alignment for the new sheet\n",
    "    worksheet = workbook[new_sheet_name]\n",
    "    for column in worksheet.columns:\n",
    "        column_letter = column[0].column_letter\n",
    "        worksheet.column_dimensions[column_letter].width = 16\n",
    "        for cell in column:  # Align each cell in the column\n",
    "            cell.alignment = Alignment(horizontal='right')\n",
    "   \n",
    "    # Final save\n",
    "    workbook.save(file_path)"
   ]
  },
  {
   "cell_type": "markdown",
   "id": "0b0161a1-7f0f-45cc-9f72-3f7de9c86367",
   "metadata": {},
   "source": [
    "#### Code: Read PDF and Write EXCEL"
   ]
  },
  {
   "cell_type": "code",
   "execution_count": 6,
   "id": "cdd818f6-05ab-4513-b136-ceba45b4f880",
   "metadata": {
    "jupyter": {
     "source_hidden": true
    }
   },
   "outputs": [],
   "source": [
    "def RWProcess(pdf_path, excel_path):\n",
    "    with pdfplumber.open(pdf_path) as pdf:\n",
    "        # Extract basic information for this reaction\n",
    "        page = pdf.pages[0]\n",
    "        text = page.extract_text()\n",
    "        Beam_Energy, Coulomb_Barrier, Center_Mass, Recoil_Energy = Extract_CompoundInf(text)\n",
    "        # Extract info for productions from the reaction\n",
    "        Production = Extract_ProductInf(pdf)\n",
    "\n",
    "    # Filter Production info to write them into Spreadsheet\n",
    "    Total, Production_Record = Filter_Inf(Production)\n",
    "\n",
    "    # Write Production Info into Excel:\n",
    "    Write_Excel(Production_Record, Total, excel_path, Beam_Energy, Recoil_Energy)    "
   ]
  },
  {
   "cell_type": "markdown",
   "id": "c2355d52-b95f-4aee-a4ef-b5ab5f330269",
   "metadata": {},
   "source": [
    "#### Code(need to call): loop PACE4 folder"
   ]
  },
  {
   "cell_type": "code",
   "execution_count": 7,
   "id": "324098e1-a7b7-4967-9e4d-7abdfb1477ea",
   "metadata": {
    "jupyter": {
     "source_hidden": true
    }
   },
   "outputs": [],
   "source": [
    "def RWPACE4(folder_path, excel_path):\n",
    "    for pdf_file in os.listdir(folder_path):\n",
    "        if pdf_file.endswith(\".pdf\"):\n",
    "            pdf_path = os.path.join(folder_path, pdf_file)\n",
    "            RWProcess(pdf_path, excel_path)"
   ]
  },
  {
   "cell_type": "markdown",
   "id": "fde973e4-893c-4770-a579-680d53a90d67",
   "metadata": {},
   "source": [
    "#### Test!!!"
   ]
  },
  {
   "cell_type": "code",
   "execution_count": 8,
   "id": "dc9ff104-7a98-44e1-9ff3-2286e51b3e6e",
   "metadata": {},
   "outputs": [],
   "source": [
    "folder_path = \"/Users/yiyizhu/Packages/DoesCal/example/PACE4\"\n",
    "excel_path = \"/Users/yiyizhu/Packages/DoesCal/example/DoesCal.xlsx\"\n",
    "RWPACE4(folder_path, excel_path)"
   ]
  },
  {
   "cell_type": "code",
   "execution_count": null,
   "id": "bb581f27-c3f5-47ae-93f0-f90cbbc6027c",
   "metadata": {},
   "outputs": [],
   "source": []
  }
 ],
 "metadata": {
  "kernelspec": {
   "display_name": "Python 3 (ipykernel)",
   "language": "python",
   "name": "python3"
  },
  "language_info": {
   "codemirror_mode": {
    "name": "ipython",
    "version": 3
   },
   "file_extension": ".py",
   "mimetype": "text/x-python",
   "name": "python",
   "nbconvert_exporter": "python",
   "pygments_lexer": "ipython3",
   "version": "3.12.0"
  }
 },
 "nbformat": 4,
 "nbformat_minor": 5
}
