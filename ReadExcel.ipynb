{
 "cells": [
  {
   "cell_type": "markdown",
   "id": "e6633be5-dbe0-4652-af56-077dcdc1e061",
   "metadata": {},
   "source": [
    "# ReadExcel\n",
    "---\n",
    "\n",
    "\n",
    "### Need (Spreadsheet):\n",
    "    1. Target:\n",
    "        a. thickness (um);\n",
    "        b. # of atoms (can be calculated by Molar mass and thickness);\n",
    "        c. Default: the unit depth is 3um;\n",
    "    2. Beam:\n",
    "        a. Energy (total energy);\n",
    "        b. Rate (pps);\n",
    "        c. Running time (sec);\n",
    "\n",
    "### Process: \n",
    "    Only fusion evaporation is considered;\n",
    "    (And beam ions if it's unstable);\n"
   ]
  },
  {
   "cell_type": "code",
   "execution_count": 1,
   "id": "7d1a5b34-dc9c-45d2-832f-58ac9fa71c52",
   "metadata": {},
   "outputs": [],
   "source": [
    "import pandas as pd"
   ]
  },
  {
   "cell_type": "code",
   "execution_count": 2,
   "id": "f644a7be-719a-4bce-83ec-990f9ad3912d",
   "metadata": {},
   "outputs": [],
   "source": [
    "# Read Excel\n",
    "df = pd.read_excel('/Users/yiyizhu/Packages/DoesCal/example/DoesCal.xlsx')"
   ]
  },
  {
   "cell_type": "raw",
   "id": "803af527-081e-4807-9b06-60de6445defe",
   "metadata": {},
   "source": [
    "# Read column named \"Target\"\n",
    "column_data = df['Target']\n",
    "print(column_data)"
   ]
  },
  {
   "cell_type": "code",
   "execution_count": 3,
   "id": "504abd48-adfe-44b1-b6bc-950ce6149269",
   "metadata": {},
   "outputs": [
    {
     "name": "stdout",
     "output_type": "stream",
     "text": [
      "    Target\t27Al      \n",
      "         Z\t13.0      \n",
      "         N\t14.0      \n",
      "         A\t27.0      \n",
      " thickness\t15.0      \n",
      "       nan\t4.053     \n",
      "Molar Mass\t26.9815   \n",
      "       nan\t4.4819767441860464e-23\n"
     ]
    }
   ],
   "source": [
    "# Read Target Info\n",
    "target_col_index = df.columns.get_loc('Target')\n",
    "target_col_name = df.columns[target_col_index]\n",
    "target_col_data = df[target_col_name]\n",
    "\n",
    "tarinf_col_index = target_col_index + 1\n",
    "tarinf_col_name = df.columns[tarinf_col_index]\n",
    "tarinf_col_data = df[tarinf_col_name]\n",
    "\n",
    "print(f\"{target_col_name:>10}\\t{tarinf_col_name:<10}\")\n",
    "for target, tarinf in zip(target_col_data, tarinf_col_data):\n",
    "    print(f\"{target:>10}\\t{tarinf:<10}\")"
   ]
  },
  {
   "cell_type": "code",
   "execution_count": 4,
   "id": "00e9b685-44c6-401c-837d-a58e7b5d635c",
   "metadata": {},
   "outputs": [
    {
     "name": "stdout",
     "output_type": "stream",
     "text": [
      "      Beam\t84Kr      \n",
      "         Z\t36        \n",
      "         N\t48        \n",
      "         A\t84        \n",
      "    Energy\t5         \n",
      "       nan\t420       \n",
      "      Rate\t1000000000\n",
      "Running Time\t3600      \n"
     ]
    }
   ],
   "source": [
    "# Read Beam Info\n",
    "beam_col_index = df.columns.get_loc('Beam')\n",
    "beam_col_name = df.columns[beam_col_index]\n",
    "beam_col_data = df[beam_col_name]\n",
    "\n",
    "beaminf_col_index = beam_col_index + 1\n",
    "beaminf_col_name = df.columns[beaminf_col_index]\n",
    "beaminf_col_data = df[beaminf_col_name]\n",
    "\n",
    "print(f\"{beam_col_name:>10}\\t{beaminf_col_name:<10}\")\n",
    "for beam, beaminf in zip(beam_col_data, beaminf_col_data):\n",
    "    print(f\"{beam:>10}\\t{beaminf:<10}\")"
   ]
  },
  {
   "cell_type": "code",
   "execution_count": null,
   "id": "e88e1168-50ac-49fe-9652-fb4f0f9d90e5",
   "metadata": {},
   "outputs": [],
   "source": []
  }
 ],
 "metadata": {
  "kernelspec": {
   "display_name": "Python 3 (ipykernel)",
   "language": "python",
   "name": "python3"
  },
  "language_info": {
   "codemirror_mode": {
    "name": "ipython",
    "version": 3
   },
   "file_extension": ".py",
   "mimetype": "text/x-python",
   "name": "python",
   "nbconvert_exporter": "python",
   "pygments_lexer": "ipython3",
   "version": "3.12.0"
  }
 },
 "nbformat": 4,
 "nbformat_minor": 5
}
