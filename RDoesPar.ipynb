{
 "cells": [
  {
   "cell_type": "markdown",
   "id": "e262dd4e-856e-493a-abbe-9df623db412a",
   "metadata": {},
   "source": [
    "## Convert Irradiation PDF to TXT and based on values to calculate Hp\n",
    "---\n",
    "It will be similar to half-life search, but I don't "
   ]
  },
  {
   "cell_type": "code",
   "execution_count": 1,
   "id": "e3aab82e-f36f-411e-a322-d83bb077c776",
   "metadata": {},
   "outputs": [],
   "source": [
    "import numpy as np\n",
    "import pdfplumber\n",
    "import os\n",
    "import re\n",
    "import pandas as pd\n",
    "from openpyxl import load_workbook\n",
    "from openpyxl.utils import get_column_letter\n",
    "from openpyxl.styles import Font, PatternFill, Border, Alignment"
   ]
  },
  {
   "cell_type": "raw",
   "id": "15a28606-9edb-4e62-851d-20fbcc431d47",
   "metadata": {
    "jupyter": {
     "source_hidden": true
    }
   },
   "source": [
    "with pdfplumber.open(\"/Users/yiyizhu/Packages/DoesCal/example/Otto_2016.pdf\") as pdf:\n",
    "    for index, page in enumerate(pdf.pages):\n",
    "        if index >= 6 and index <=7:\n",
    "            text = page.extract_text()\n",
    "            print(f\"page{index}: {text}\")"
   ]
  },
  {
   "cell_type": "raw",
   "id": "a878655e-399f-4bfe-98de-7299d084c092",
   "metadata": {
    "jupyter": {
     "source_hidden": true
    },
    "scrolled": true
   },
   "source": [
    "with pdfplumber.open(\"/Users/yiyizhu/Packages/DoesCal/example/Otto_2016.pdf\") as pdf:\n",
    "    for index, page in enumerate(pdf.pages):\n",
    "        if index >= 6 and index <= 36:\n",
    "            print(f\"\\n\\npage {index+1}\")\n",
    "            text = page.extract_text()\n",
    "            lines = text.split('\\n')\n",
    "            for i, line in enumerate(lines):\n",
    "                if bool(re.match(r'^\\d+[A-Za-z]', line.split()[0])):\n",
    "                    print(f\"{line.split()}\\n\")"
   ]
  },
  {
   "cell_type": "code",
   "execution_count": 2,
   "id": "9d39ac56-f9f1-4521-80a7-28aa21e02917",
   "metadata": {
    "scrolled": true
   },
   "outputs": [],
   "source": [
    "# Specific format for \"Otto\"\n",
    "txt = [[\"#\", \"unit:\", \"uSv/h/GBq\"],\n",
    "       [\"A\", \"isotope\", \"Hp10_100cm_unshield\", \"Hp10_100cm_shield\", \"Hp07_10cm_unshield\", \"Hp07_10cm_shield\"]]\n",
    "\n",
    "with pdfplumber.open(\"/Users/yiyizhu/Packages/DoesCal/example/DoesPar/Otto_2016.pdf\") as pdf:\n",
    "    for index, page in enumerate(pdf.pages):\n",
    "        # page reuiqrement\n",
    "        if index >= 6 and index <= 36:\n",
    "        #if index == 6:\n",
    "            text = page.extract_text()\n",
    "            lines = text.split('\\n')\n",
    "            # loop lines in one page\n",
    "            for i, line in enumerate(lines):\n",
    "                # line.split() to split one line into multiple strings by space or tab\n",
    "                if bool(re.match(r'^\\d+[A-Za-z]', line.split()[0])):\n",
    "                    letters_only = ''.join(re.findall(r'[A-Za-z]+', line.split()[0]))\n",
    "                    if letters_only.startswith('m'):\n",
    "                        letters_only = letters_only[1:] + \"_isomer\"\n",
    "                    new_row = [int(line.split()[2]), \n",
    "                               letters_only,\n",
    "                               float(line.split()[5]),\n",
    "                               float(line.split()[6]),\n",
    "                               float(line.split()[9])/1000.,   # /1000 convert unit from mSv to uSv\n",
    "                               float(line.split()[10])/1000.]  # /1000 convert unit from mSv to uSv\n",
    "                    txt.append(new_row)\n",
    "\n",
    "txt_path = \"example/DoesPar/DoesPar_Otto.txt\"\n",
    "with open(txt_path, \"w\") as output_file:\n",
    "    for row in txt:\n",
    "        output_file.write(\"\\t\".join(map(str, row)) + \"\\n\")                  "
   ]
  },
  {
   "cell_type": "code",
   "execution_count": 42,
   "id": "a3b28646-0b30-4ddf-9e86-d966b07af17e",
   "metadata": {
    "scrolled": true
   },
   "outputs": [
    {
     "name": "stdout",
     "output_type": "stream",
     "text": [
      "['H-3', '12.35', 'y', '\\uf062\\uf02d\\uf020', '4.1', 'E-11', '4.2', 'E-11', '<0.001', '<1', '<0.1', '2', 'E+05', '1', 'E+08', '2', 'E+05', '1000']\n",
      "['H-3,', 'HTO', '12.35', 'y', '\\uf062\\uf02d\\uf020', '1.8', 'E-11', '1.8', 'E-11', '<0.001', '<1', '<0.1', '6', 'E+05', '3', 'E+08', '5', 'E+05', '1000']\n",
      "['H-3,', 'gas', '[7]', '12.35', 'y', '\\uf062\\uf02d\\uf020', '1.8', 'E-15', '<0.001', '<1', '<0.1', '3', 'E+12', '5', 'E+09']\n",
      "['Be-7', '53.3', 'd', '\\uf065,', '\\uf067\\uf020', '4.6', 'E-11', '2.8', 'E-11', '0.008', '<1', '0.1', '4', 'E+05', '1', 'E+08', '1', 'E+05', '1000']\n",
      "['Be-10', '1.6', 'E6', 'y', '\\uf062\\uf02d\\uf020', '1.9', 'E-08', '1.1', 'E-09', '<0.001', '2000', '1.6', '9', 'E+03', '3', 'E+05', '9', 'E+01', '3']\n",
      "['C-11', '20.38', 'm', '\\uf065,', '\\uf062\\uf02b\\uf020', '3.2', 'E-12', '2.4', 'E-11', '0.160', '1000', '1.7', '4', 'E+05', '7', 'E+07', '7', 'E+04', '[3]', '3']\n",
      "['C-11', 'monoxide', '20.38', 'm', '\\uf065,', '\\uf062\\uf02b\\uf020', '1.2', 'E-12', '1.2', 'E-12', '7', 'E+07', '7', 'E+04', '[3]']\n",
      "['C-11', 'dioxide', '20.38', 'm', '\\uf065,', '\\uf062\\uf02b\\uf020', '2.2', 'E-12', '2.2', 'E-12', '7', 'E+07', '7', 'E+04', '[3]']\n",
      "['C-14', '5730', 'y', '\\uf062\\uf02d\\uf020', '5.8', 'E-10', '5.8', 'E-10', '<0.001', '200', '0.3', '2', 'E+04', '9', 'E+06', '1', 'E+04', '30']\n",
      "['C-14', 'monoxide', '5730', 'y', '\\uf062\\uf02d\\uf020', '8.0', 'E-13', '8.0', 'E-13', '6', 'E+09', '1', 'E+07']\n",
      "['C-14', 'dioxide', '5730', 'y', '\\uf062\\uf02d\\uf020', '6.5', 'E-12', '6.5', 'E-12', '8', 'E+08', '1', 'E+06']\n",
      "['N-13', '9.965', 'm', '\\uf065,', '\\uf062\\uf02b\\uf020', '0.160', '1000', '1.7', '7', 'E+07', '7', 'E+04', '[3]', '3']\n",
      "['O-15', '122.24', 's', '\\uf065,', '\\uf062\\uf02b\\uf020', '0.161', '1000', '1.7', '7', 'E+07', '7', 'E+04', '[3]', '3']\n",
      "['F-18', '109.77', 'm', '\\uf065,', '\\uf062\\uf02b\\uf020', '9.3', 'E-11', '4.9', 'E-11', '0.160', '2000', '1.7', '2', 'E+05', '5', 'E+07', '7', 'E+04', '[3]', '3']\n",
      "['Na-22', '2.602', 'y', '\\uf065,', '\\uf062\\uf02b,', '\\uf067\\uf020', '2.0', 'E-09', '3.2', 'E-09', '0.330', '2000', '1.6', '3', 'E+03', '3', 'E+06', '4', 'E+03', '3']\n",
      "['Na-24', '15', 'h', '\\uf062\\uf02d,', '\\uf067\\uf020', '5.3', 'E-10', '4.3', 'E-10', '0.506', '1000', '1.9', '2', 'E+04', '9', 'E+06', '3', 'E+04', '3']\n",
      "['Mg-28/Al-28', '20.91', 'h', '\\uf062\\uf02d,', '\\uf067\\uf020', '1.7', 'E-09', '2.2', 'E-09', '0.529', '2000', '3.1', '5', 'E+03', '3', 'E+06', '6', 'E+03', '3']\n",
      "['Al-26', '7.16', 'E5', 'y', '\\uf065,', '\\uf062\\uf02b,', '\\uf067\\uf020', '1.4', 'E-08', '3.5', 'E-09', '0.382', '1000', '1.5', '3', 'E+03', '4', 'E+05', '4', 'E+02', '3']\n",
      "['Si-31', '157.3', 'm', '\\uf062\\uf02d,', '\\uf067\\uf020', '1.1', 'E-10', '1.6', 'E-10', '<0.001', '1000', '1.6', '6', 'E+04', '5', 'E+07', '1', 'E+05', '3']\n",
      "['Si-32', '450', 'y', '\\uf062\\uf02d\\uf020', '5.5', 'E-08', '5.6', 'E-10', '<0.001', '500', '0.6', '2', 'E+04', '9', 'E+04', '3', 'E+01', '3\\uf0aeP-32']\n",
      "['P-30', '2.499', 'm', '\\uf065,', '\\uf062\\uf02b,', '\\uf067\\uf020', '0.371', '900', '1.7', '3']\n",
      "['P-32', '14.29', 'd', '\\uf062\\uf02d\\uf020', '2.9', 'E-09', '2.4', 'E-09', '<0.001', '1000', '1.6', '4', 'E+03', '2', 'E+06', '2', 'E+03', '3']\n",
      "['P-33', '25.4', 'd', '\\uf062\\uf02d\\uf020', '1.3', 'E-09', '2.4', 'E-10', '<0.001', '700', '0.8', '4', 'E+04', '4', 'E+06', '1', 'E+04', '10']\n",
      "['S-35', '(inorg.)', '87.44', 'd', '\\uf062\\uf02d\\uf020', '1.1', 'E-09', '1.9', 'E-10', '<0.001', '200', '0.3', '5', 'E+04', '5', 'E+06', '1', 'E+04', '30']\n",
      "['S-35', '(org.)', '87.44', 'd', '\\uf062\\uf02d\\uf020', '1.2', 'E-10', '7.7', 'E-10', '<0.001', '200', '0.3', '1', 'E+04', '4', 'E+07', '7', 'E+04', '30']\n",
      "['Cl-36', '3.01', 'E5', 'y', '\\uf062\\uf02d,', '\\uf065,', '\\uf062\\uf02b\\uf020', '5.1', 'E-09', '9.3', 'E-10', '<0.001', '1000', '1.5', '1', 'E+04', '1', 'E+06', '1', 'E+03', '3']\n",
      "['Cl-38', '37.21', 'm', '\\uf062\\uf02d,', '\\uf067\\uf020', '7.3', 'E-11', '1.2', 'E-10', '1.551', '1000', '1.8', '8', 'E+04', '7', 'E+07', '4', 'E+04', '[3]', '3']\n",
      "['Cl-39', '55.6', 'm', '\\uf062\\uf02d,', '\\uf067\\uf020', '7.6', 'E-11', '8.5', 'E-11', '0.241', '1000', '1.7', '1', 'E+05', '7', 'E+07', '2', 'E+05', '3\\uf0aeAr-39']\n",
      "['Ar-37', '35.', '02', 'd', '\\uf065\\uf020', '<0.001', '<1', '<0.1', '1', 'E+14', '1', 'E+11']\n",
      "['Ar-39', '269', 'y', '\\uf062\\uf02d\\uf020', '<0.001', '2000', '1.5', '3', 'E+10', '7', 'E+06', '[4]']\n",
      "['Ar-41', '1.827', 'h', '\\uf062\\uf02d,', '\\uf067\\uf020', '0.188', '1000', '1.7', '5', 'E+07', '5', 'E+04']\n",
      "['K-38', '7.636', 'm', '\\uf065,', '\\uf062\\uf02b,', '\\uf067\\uf020', '0.480', '1000', '1.8', '3']\n",
      "['K-40', '1.28', 'E9', 'y', '\\uf062\\uf02d,', '\\uf065,', '\\uf067\\uf020', '3.0', 'E-09', '6.2', 'E-09', '0.022', '1000', '1.5', '2', 'E+03', '2', 'E+06', '3', 'E+03', '3']\n",
      "['K-42', '12.36', 'h', '\\uf062\\uf02d,', '\\uf067\\uf020', '2.0', 'E-10', '4.3', 'E-10', '0.464', '1000', '1.7', '2', 'E+04', '3', 'E+07', '2', 'E+04', '3']\n",
      "['K-43', '22.6', 'h', '\\uf062\\uf02d,', '\\uf067\\uf020', '2.6', 'E-10', '2.5', 'E-10', '0.152', '1000', '1.6', '4', 'E+04', '2', 'E+07', '4', 'E+04', '3']\n",
      "['K-44', '22.13', 'm', '\\uf062\\uf02d,', '\\uf067\\uf020', '3.7', 'E-11', '8.4', 'E-11', '1.553', '1000', '1.8', '1', 'E+05', '1', 'E+08', '3', 'E+05', '3']\n",
      "['K-45', '20', 'm', '\\uf062\\uf02d,', '\\uf067\\uf020', '2.8', 'E-11', '5.4', 'E-11', '0.302', '1000', '1.7', '2', 'E+05', '2', 'E+08', '5', 'E+05', '3']\n",
      "['Ca-41', '1.4', 'E5', 'y', '\\uf065\\uf020', '1.9', 'E-10', '2.9', 'E-10', '<0.001', '<1', '<0.1', '3', 'E+04', '3', 'E+07', '3', 'E+04', '300']\n",
      "['Ca-45', '163', 'd', '\\uf062\\uf02d,', '\\uf067\\uf020', '2.3', 'E-09', '7.6', 'E-10', '<0.001', '700', '0.8', '1', 'E+04', '2', 'E+06', '5', 'E+03', '10']\n",
      "['Ca-47', '4.53', 'd', '\\uf062\\uf02d,', '\\uf067\\uf020', '2.1', 'E-09', '1.6', 'E-09', '0.156', '1000', '1.6', '6', 'E+03', '2', 'E+06', '4', 'E+03', '3\\uf0aeSc-47']\n",
      "['Sc-43', '3.891', 'h', '\\uf065,', '\\uf062\\uf02b,', '\\uf067\\uf020', '1.8', 'E-10', '1.9', 'E-10', '0.174', '1000', '1.4', '5', 'E+04', '3', 'E+07', '1', 'E+05', '3']\n",
      "['Sc-44', '3.927', 'h', '\\uf065,', '\\uf062\\uf02b,', '\\uf067\\uf020', '3.0', 'E-10', '3.5', 'E-10', '0.324', '1000', '1.7', '3', 'E+04', '2', 'E+07', '7', 'E+04', '3']\n"
     ]
    }
   ],
   "source": [
    "with pdfplumber.open(\"/Users/yiyizhu/Packages/DoesCal/example/DoesPar/814.501.2014.pdf\") as pdf:\n",
    "    for index, page in enumerate(pdf.pages):\n",
    "        #if index >= 64 and index <= 93:\n",
    "        if index >= 64 and index <= 65:\n",
    "            #print(f\"\\n\\npage {index+1}\")\n",
    "            text = page.extract_text()\n",
    "            lines = text.split('\\n')\n",
    "            for i, line in enumerate(lines):\n",
    "                if bool(re.match(r\"^[A-Za-z]+-\\d+(\\/[A-Za-z]+-\\d+)*,?$\", line.split()[0])):\n",
    "                    print(f\"{line.split()}\")\n",
    "                #if bool(re.match(r\"^[A-Za-z]+-\\d+$\", line.split()[0])):\n",
    "                #    print(f\"{line.split()[0]} {line.split()[1]} {line.split()[2]} {line.split()[3]}type={type(line.split()[3])}, length = {len(line.split())}\")\n",
    "                #elif bool(re.match(r\"^[A-Za-z]+-\\d+(\\/[A-Za-z]+-\\d+)*,?$\", line.split()[0])):\n",
    "                #    print(f\"{line.split()[0]} {line.split()[1]} {line.split()[2]} {line.split()[3]} {line.split()[4]}type={type(line.split()[4])}, length = {len(line.split())}\")\n",
    "                "
   ]
  },
  {
   "cell_type": "code",
   "execution_count": 41,
   "id": "936326ec-a422-434a-9ce9-77aabbb9a3c9",
   "metadata": {},
   "outputs": [
    {
     "name": "stdout",
     "output_type": "stream",
     "text": [
      "['Assessment', 'Licensing', 'Guidance']\n",
      "['Nuclide', 'of', 'einh']\n",
      "['decay/', '(mSv/h)/GBq', '(mSv/h)/GBq']\n",
      "['radiation', 'm', 'at']\n",
      "['1', '4', '5']\n",
      "['H-3', '\\uf062\\uf02d\\uf020', '4.1']\n",
      "['H-3,', 'y', '\\uf062\\uf02d\\uf020']\n",
      "['H-3,', '12.35', 'y']\n",
      "['Be-7', '\\uf065,', '\\uf067\\uf020']\n",
      "['Be-10', 'y', '\\uf062\\uf02d\\uf020']\n",
      "['C-11', '\\uf065,', '\\uf062\\uf02b\\uf020']\n",
      "['C-11', 'm', '\\uf065,']\n",
      "['C-11', 'm', '\\uf065,']\n",
      "['C-14', '\\uf062\\uf02d\\uf020', '5.8']\n",
      "['C-14', 'y', '\\uf062\\uf02d\\uf020']\n",
      "['C-14', 'y', '\\uf062\\uf02d\\uf020']\n",
      "['N-13', '\\uf065,', '\\uf062\\uf02b\\uf020']\n",
      "['O-15', '\\uf065,', '\\uf062\\uf02b\\uf020']\n",
      "['F-18', '\\uf065,', '\\uf062\\uf02b\\uf020']\n",
      "['Na-22', '\\uf065,', '\\uf062\\uf02b,']\n",
      "['Na-24', '\\uf062\\uf02d,', '\\uf067\\uf020']\n",
      "['Mg-28/Al-28', '\\uf062\\uf02d,', '\\uf067\\uf020']\n",
      "['1', 'by', 'No']\n",
      "['1', '(AS', '2000']\n"
     ]
    }
   ],
   "source": [
    "with pdfplumber.open('/Users/yiyizhu/Packages/DoesCal/example/DoesPar/814.501.2014.pdf') as pdf:\n",
    "    # Load the specific page (page 65 in this case)\n",
    "    page = pdf.pages[64]  # Page indexing starts from 0\n",
    "    # Extract the raw text\n",
    "    text = page.extract_text()\n",
    "\n",
    "# Split the text into lines\n",
    "lines = text.split('\\n')\n",
    "\n",
    "# Initialize a list to hold the data\n",
    "table_data = []\n",
    "\n",
    "# Loop through the lines to find relevant rows\n",
    "for line in lines:\n",
    "    # Split the line by spaces to separate columns\n",
    "    columns = line.split()\n",
    "\n",
    "    # Basic check to ensure there are enough columns\n",
    "    if len(columns) > 5:\n",
    "        nuclide = columns[0]  # Nuclide\n",
    "        e_inh = columns[3]    # e_inh (Sv/Bq)\n",
    "        e_ing = columns[4]    # e_ing (Sv/Bq)\n",
    "        \n",
    "        # Add the extracted data to the 2D array\n",
    "        table_data.append([nuclide, e_inh, e_ing])\n",
    "\n",
    "# Display the extracted 2D array\n",
    "for entry in table_data:\n",
    "    print(entry)"
   ]
  },
  {
   "cell_type": "code",
   "execution_count": null,
   "id": "99ad477c-f709-4058-9e34-7cb3cdd5243e",
   "metadata": {},
   "outputs": [],
   "source": []
  }
 ],
 "metadata": {
  "kernelspec": {
   "display_name": "Python 3 (ipykernel)",
   "language": "python",
   "name": "python3"
  },
  "language_info": {
   "codemirror_mode": {
    "name": "ipython",
    "version": 3
   },
   "file_extension": ".py",
   "mimetype": "text/x-python",
   "name": "python",
   "nbconvert_exporter": "python",
   "pygments_lexer": "ipython3",
   "version": "3.12.0"
  }
 },
 "nbformat": 4,
 "nbformat_minor": 5
}
