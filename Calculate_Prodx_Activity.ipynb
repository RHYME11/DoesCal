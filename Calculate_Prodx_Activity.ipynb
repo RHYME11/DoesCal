{
 "cells": [
  {
   "cell_type": "markdown",
   "id": "9dc120cd-13e1-49b3-b144-cb91a8668e9d",
   "metadata": {},
   "source": [
    "## Calculate Production Activity at CoolDown T = 0\n",
    "---\n",
    "A = Prodx_Rate * (1-exp(-0.693/halflife * beam_time)) * Stop_Ratio\n",
    "+ Everything in the equation above is in seconds"
   ]
  },
  {
   "cell_type": "code",
   "execution_count": 1,
   "id": "5634d9ec-0705-45d6-9988-1f0740014c9d",
   "metadata": {},
   "outputs": [],
   "source": [
    "import pdfplumber\n",
    "import numpy as np\n",
    "import os\n",
    "import re\n",
    "import pandas as pd\n",
    "from openpyxl import load_workbook\n",
    "from openpyxl.utils import get_column_letter\n",
    "from openpyxl.styles import Font, PatternFill, Border, Alignment"
   ]
  },
  {
   "cell_type": "raw",
   "id": "a93cf8fb-e479-4400-8e16-95fc2d095205",
   "metadata": {
    "jupyter": {
     "source_hidden": true
    }
   },
   "source": [
    "excel_path = \"example/DoesCal.xlsx\"\n",
    "sheets = pd.read_excel(excel_path, sheet_name=None)\n",
    "workbook = load_workbook(excel_path)\n",
    "sheet_names = workbook.sheetnames\n",
    "df = sheets[\"Initial\"]\n",
    "beam_col_index = df.columns.get_loc('Beam')\n",
    "beam_rate_row_idx = df[df.iloc[:, beam_col_index + 2] == 'pps'].index[0]\n",
    "beam_rate = df.iloc[beam_rate_row_idx, beam_col_index + 1]\n",
    "\n",
    "sheet_name = \"0um_420MeV\"\n",
    "df = sheets[sheet_name]\n",
    "if \"Prodx A(Bq)\" not in df.columns:\n",
    "    df[\"Prodx A(Bq)\"] = -1.0\n",
    "for idx in range(len(df)-1):\n",
    "    prodx_rate = df.at[idx,'Prodx_Rate(pps)']\n",
    "    halflife = df.at[idx,'t1/2(s)']\n",
    "    stop_ratio = df.at[idx,'Stop_Ratio']\n",
    "    df.at[idx,\"Prodx A(Bq)\"] = prodx_rate * (1 - np.exp(-0.693/halflife * beam_rate)) * stop_ratio"
   ]
  },
  {
   "cell_type": "code",
   "execution_count": 2,
   "id": "4c7e225f-070a-4764-8cb6-a032d6d23a4f",
   "metadata": {},
   "outputs": [],
   "source": [
    "def Cal_Prodx_A(excel_path):\n",
    "    sheets = pd.read_excel(excel_path, sheet_name=None)\n",
    "    workbook = load_workbook(excel_path)\n",
    "    sheet_names = workbook.sheetnames\n",
    "\n",
    "    df = sheets[\"Initial\"]\n",
    "    beam_col_index = df.columns.get_loc('Beam')\n",
    "    run_time_row_idx = df[df.iloc[:, beam_col_index + 2] == 'sec'].index[0]\n",
    "    run_time = df.iloc[run_time_row_idx, beam_col_index + 1]\n",
    "\n",
    "    for sheet_name in sheet_names:\n",
    "        if \"MeV\" in sheet_name:\n",
    "            df = sheets[sheet_name]\n",
    "            if \"Prodx A(Bq)\" not in df.columns:\n",
    "                df[\"Prodx_A(Bq)\"] = -1.0\n",
    "            df.at[df.index[-1], \"Prodx A(Bq)\"] = np.nan\n",
    "            for idx in range(len(df)-1):\n",
    "                prodx_rate = df.at[idx,'Prodx_Rate(pps)']\n",
    "                halflife = df.at[idx,'t1/2(s)']\n",
    "                stop_ratio = df.at[idx,'Stop_Ratio']\n",
    "                df.at[idx,\"Prodx_A(Bq)\"] = prodx_rate * (1 - np.exp(-0.693/halflife * run_time)) * stop_ratio\n",
    "\n",
    "            # Save df back to Excel\n",
    "            with pd.ExcelWriter(excel_path, engine='openpyxl', mode='a', if_sheet_exists='replace') as writer:\n",
    "                df.to_excel(writer, sheet_name=sheet_name, index=False)\n",
    "            # Reopen the workbook to apply formatting\n",
    "            workbook = load_workbook(excel_path)\n",
    "            # Set column width and alignment for the new sheet\n",
    "            worksheet = workbook[sheet_name]\n",
    "            for column in worksheet.columns:\n",
    "                column_letter = column[0].column_letter\n",
    "                worksheet.column_dimensions[column_letter].width = 16\n",
    "                for cell in column:  # Align each cell in the column\n",
    "                    cell.alignment = Alignment(horizontal='right')\n",
    "            # Save the workbook\n",
    "            workbook.save(excel_path)"
   ]
  },
  {
   "cell_type": "raw",
   "id": "973d6b8c-b63c-4364-8e05-1dbb570e309d",
   "metadata": {},
   "source": [
    "excel_path = \"example/DoesCal.xlsx\"\n",
    "Cal_Prodx_A(excel_path)"
   ]
  },
  {
   "cell_type": "markdown",
   "id": "965b8a6f-5764-471f-9219-9f08954fc207",
   "metadata": {},
   "source": [
    "## Summarize sub-sheets"
   ]
  },
  {
   "cell_type": "raw",
   "id": "b203b425-7211-4b7b-be7a-5fd798aac5f0",
   "metadata": {
    "jupyter": {
     "source_hidden": true
    }
   },
   "source": [
    "# Load the Excel file\n",
    "excel_path = 'example/DoesCal.xlsx'\n",
    "sheets = pd.read_excel(excel_path, sheet_name=None)\n",
    "workbook = load_workbook(excel_path)\n",
    "\n",
    "# Extract data from sheets named \"*um_*MeV\"\n",
    "data_frames = []\n",
    "for sheet_name in workbook.sheetnames:\n",
    "    if 'um_' in sheet_name and 'MeV' in sheet_name:\n",
    "        df = sheets[sheet_name][['A', 'isotope', 'Prodx_A(Bq)']]\n",
    "        df.columns = ['A', 'isotope', f'A(Bq)@{sheet_name.split(\"um_\")[0]}um']\n",
    "        data_frames.append((int(sheet_name.split('um_')[0]), df))\n",
    "\n",
    "# Sort data_frames by the numeric value in the sheet names\n",
    "data_frames.sort(key=lambda x: x[0])\n",
    "\n",
    "# Extract only the DataFrames in the correct order\n",
    "data_frames = [df for _, df in data_frames]\n",
    "\n",
    "# Merge all data frames on 'A' and 'isotope'\n",
    "merged_df = data_frames[0]\n",
    "for df in data_frames[1:]:\n",
    "    merged_df = pd.merge(merged_df, df, on=['A', 'isotope'], how='outer')\n",
    "\n",
    "# Reorder by \"A\" from large to small, and then by \"isotope\" keyword\n",
    "merged_df['isotope_keyword'] = merged_df['isotope'].str.replace(' isomer', '')\n",
    "merged_df = merged_df.sort_values(by=['A', 'isotope_keyword', 'isotope'], ascending=[False, True, True])\n",
    "# Drop the temporary column used for sorting\n",
    "merged_df = merged_df.drop(columns=['isotope_keyword'])\n",
    "\n",
    "# Round all \"Prodx\" columns to 2 decimal places\n",
    "for col in merged_df.columns:\n",
    "    if \"A(Bq)\" in col:\n",
    "        merged_df[col] = merged_df[col].round(2)\n",
    "\n",
    "# Save the updated workbook\n",
    "with pd.ExcelWriter(excel_path, engine='openpyxl', mode='a', if_sheet_exists = 'replace') as writer:\n",
    "    merged_df.to_excel(writer, sheet_name='Summary', index=False)\n",
    "\n",
    "# Reopen the workbook to apply formatting\n",
    "workbook = load_workbook(excel_path)\n",
    "# Set column width and alignment for the new sheet\n",
    "worksheet = workbook['Summary']\n",
    "for column in worksheet.columns:\n",
    "    column_letter = column[0].column_letter\n",
    "    worksheet.column_dimensions[column_letter].width = 14\n",
    "    for cell in column:  # Align each cell in the column\n",
    "        cell.alignment = Alignment(horizontal='right')\n",
    "        # Save the workbook\n",
    "workbook.save(excel_path)"
   ]
  },
  {
   "cell_type": "code",
   "execution_count": 71,
   "id": "fe64a091-3654-4f88-b85b-c2ed4c0ac872",
   "metadata": {},
   "outputs": [],
   "source": [
    "def summarize(excel_path):\n",
    "    sheets = pd.read_excel(excel_path, sheet_name=None)\n",
    "    workbook = load_workbook(excel_path)\n",
    "\n",
    "    # Extract data from sheets named \"*um_*MeV\"\n",
    "    data_frames = []\n",
    "    for sheet_name in workbook.sheetnames:\n",
    "        if 'um_' in sheet_name and 'MeV' in sheet_name:\n",
    "            df = sheets[sheet_name][['A', 'isotope', 'Prodx_A(Bq)']]\n",
    "            df.columns = ['A', 'isotope', f'A(Bq)@{sheet_name.split(\"um_\")[0]}um']\n",
    "            data_frames.append((int(sheet_name.split('um_')[0]), df))\n",
    "\n",
    "    # Sort data_frames by the numeric value in the sheet names\n",
    "    data_frames.sort(key=lambda x: x[0])\n",
    "\n",
    "    # Extract only the DataFrames in the correct order\n",
    "    data_frames = [df for _, df in data_frames]\n",
    "\n",
    "    # Merge all data frames on 'A' and 'isotope'\n",
    "    merged_df = data_frames[0]\n",
    "    for df in data_frames[1:]:\n",
    "        merged_df = pd.merge(merged_df, df, on=['A', 'isotope'], how='outer')\n",
    "\n",
    "    # Reorder by \"A\" from large to small, and then by \"isotope\" keyword\n",
    "    merged_df['isotope_keyword'] = merged_df['isotope'].str.replace(' isomer', '')\n",
    "    merged_df = merged_df.sort_values(by=['A', 'isotope_keyword', 'isotope'], ascending=[False, True, True])\n",
    "    # Drop the temporary column used for sorting\n",
    "    merged_df = merged_df.drop(columns=['isotope_keyword'])\n",
    "\n",
    "    # Round all \"Prodx\" columns to 2 decimal places\n",
    "    for col in merged_df.columns:\n",
    "        if \"A(Bq)\" in col:\n",
    "            merged_df[col] = merged_df[col].fillna(0).round(2)\n",
    "\n",
    "    # Save the updated workbook\n",
    "    with pd.ExcelWriter(excel_path, engine='openpyxl', mode='a', if_sheet_exists = 'replace') as writer:\n",
    "        merged_df.to_excel(writer, sheet_name='Summary', index=False)\n",
    "\n",
    "    # Reopen the workbook to apply formatting\n",
    "    workbook = load_workbook(excel_path)\n",
    "    # Set column width and alignment for the new sheet\n",
    "    worksheet = workbook['Summary']\n",
    "    for column in worksheet.columns:\n",
    "        column_letter = column[0].column_letter\n",
    "        worksheet.column_dimensions[column_letter].width = 14\n",
    "        for cell in column:  # Align each cell in the column\n",
    "            cell.alignment = Alignment(horizontal='right')\n",
    "            # Save the workbook\n",
    "    workbook.save(excel_path)"
   ]
  },
  {
   "cell_type": "code",
   "execution_count": 72,
   "id": "f7944922-799c-4ad3-bc16-1be1be53ed3b",
   "metadata": {},
   "outputs": [],
   "source": [
    "excel_path = \"example/DoesCal.xlsx\"\n",
    "summarize(excel_path)"
   ]
  }
 ],
 "metadata": {
  "kernelspec": {
   "display_name": "Python 3 (ipykernel)",
   "language": "python",
   "name": "python3"
  },
  "language_info": {
   "codemirror_mode": {
    "name": "ipython",
    "version": 3
   },
   "file_extension": ".py",
   "mimetype": "text/x-python",
   "name": "python",
   "nbconvert_exporter": "python",
   "pygments_lexer": "ipython3",
   "version": "3.12.0"
  }
 },
 "nbformat": 4,
 "nbformat_minor": 5
}
