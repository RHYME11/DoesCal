{
 "cells": [
  {
   "cell_type": "code",
   "execution_count": 65,
   "id": "fe14d31c-5b56-4632-8bd6-ec6ee0a0301f",
   "metadata": {},
   "outputs": [],
   "source": [
    "import numpy as np\n",
    "import pdfplumber\n",
    "import os\n",
    "import re\n",
    "import pandas as pd\n",
    "from openpyxl import load_workbook\n",
    "from openpyxl.utils import get_column_letter\n",
    "from openpyxl.styles import Font, PatternFill, Border, Alignment\n",
    "from pathlib import Path"
   ]
  },
  {
   "cell_type": "markdown",
   "id": "89a435f7-cd7b-4cb1-9580-e4e16a6f38e6",
   "metadata": {},
   "source": [
    "### Read Does Parameters TXT file and Convert A(Bq) to uSv"
   ]
  },
  {
   "cell_type": "raw",
   "id": "67f8365c-a31b-41aa-ae23-6c783b823e04",
   "metadata": {
    "jupyter": {
     "source_hidden": true
    }
   },
   "source": [
    "excel_path = \"example/DoesCal.xlsx\"\n",
    "df = pd.read_excel(excel_path, sheet_name='Summary_Act')\n",
    "\n",
    "# Read the TXT file and create a DataFrame\n",
    "txt_file_path = \"example/DoesPar/Body_unshield.txt\"\n",
    "txt_df = pd.read_csv(txt_file_path, sep='\\\\s+', names=['A', 'Isotope', 'DoesPar'], comment='#')\n",
    "\n",
    "# Filter columns containing \"cd\"\n",
    "cd_columns = [col for col in df.columns if \"cd\" in col]\n",
    "\n",
    "for idx, row in df.iterrows():\n",
    "    # Get the current \"A\" and \"Isotope\" in the Excel sheet\n",
    "    A = int(row['A'])\n",
    "    isotope = row['isotope']\n",
    "    match = txt_df[(txt_df['A'].astype(int) == A) & (txt_df['Isotope'] == isotope)]\n",
    "\n",
    "    if not match.empty:\n",
    "        # Get the DoesPar value from the txt file\n",
    "        does_par = match['DoesPar'].values[0]\n",
    "        # Multiply DoesPar with each of the cd columns\n",
    "        for col in cd_columns:\n",
    "            new_col_name = f\"Does(uSv)@{col[6:]}\"  # Create new column name by adding Does(uSv)\n",
    "            df.loc[idx, new_col_name] = row[col]/1e9 * does_par  # Calculate and assign new value\n",
    "    else:\n",
    "        df = df.drop(idx)\n",
    "\n",
    "# Sum all \"Does(uSv)\" columns and add a new row with the total sum\n",
    "does_columns = [col for col in df.columns if col.startswith(\"Does(uSv)\")]  # Find all the new \"Does(uSv)\" columns\n",
    "sum_row = df[does_columns].sum()  # Calculate the sum of all the new \"Does(uSv)\" columns\n",
    "\n",
    "# Create a sum row and add it to the DataFrame\n",
    "sum_row_label = ['Total'] + [''] * (df.shape[1] - len(does_columns) - 1)  # Set 'Total' label for first column\n",
    "sum_row_full = pd.DataFrame([sum_row_label + sum_row.tolist()], columns=df.columns)\n",
    "\n",
    "# Append the sum row to the DataFrame\n",
    "df = pd.concat([df, sum_row_full], ignore_index=True)\n",
    "txt_file = Path(txt_file_path)\n",
    "sheet_name = f\"{txt_file.stem}\"  # Create the new sheet name\n",
    "print(f'{sheet_name}')\n",
    "\n",
    "with pd.ExcelWriter(excel_path, mode='a', engine='openpyxl', if_sheet_exists = 'replace') as writer:\n",
    "    df.to_excel(writer, sheet_name=sheet_name, index=False)\n",
    "\n",
    "# Reopen the workbook to apply formatting\n",
    "workbook = load_workbook(excel_path)\n",
    "# Set column width and alignment for the new sheet\n",
    "worksheet = workbook[sheet_name]\n",
    "for column in worksheet.columns:\n",
    "    column_letter = column[0].column_letter\n",
    "    worksheet.column_dimensions[column_letter].width = 14\n",
    "    for cell in column:  # Align each cell in the column\n",
    "        cell.alignment = Alignment(horizontal='right')\n",
    "        # Save the workbook\n",
    "workbook.save(excel_path)"
   ]
  },
  {
   "cell_type": "code",
   "execution_count": 82,
   "id": "77fd14d3-cb9c-401c-bd7d-3573fb01f422",
   "metadata": {},
   "outputs": [],
   "source": [
    "def CalDoes(excel_path, doespar_path):\n",
    "    df = pd.read_excel(excel_path, sheet_name='Summary_Act')\n",
    "    doespar_df = pd.read_csv(doespar_path, sep='\\\\s+', names=['A', 'Isotope', 'DoesPar'], comment='#')\n",
    "\n",
    "    # Filter columns containing \"cd\"\n",
    "    cd_columns = [col for col in df.columns if \"cd\" in col]\n",
    "\n",
    "    for idx, row in df.iterrows():\n",
    "        # Get the current \"A\" and \"Isotope\" in the Excel sheet\n",
    "        A = int(row['A'])\n",
    "        isotope = row['isotope']\n",
    "        match = doespar_df[(doespar_df['A'].astype(int) == A) & (doespar_df['Isotope'] == isotope)]\n",
    "        if not match.empty:\n",
    "            # Get the DoesPar value from the txt file\n",
    "            does_par = match['DoesPar'].values[0]\n",
    "            # Multiply DoesPar with each of the cd columns\n",
    "            for col in cd_columns:\n",
    "                new_col_name = f\"Does(uSv)@{col[6:]}\"  # Create new column name by adding Does(uSv)\n",
    "                df.loc[idx, new_col_name] = row[col]/1e9 * does_par  # Calculate and assign new value\n",
    "        else:\n",
    "            df = df.drop(idx)\n",
    "\n",
    "    # Sum all \"Does(uSv)\" columns and add a new row with the total sum\n",
    "    does_columns = [col for col in df.columns if col.startswith(\"Does(uSv)\")]  # Find all the new \"Does(uSv)\" columns\n",
    "    sum_row = df[does_columns].sum()  # Calculate the sum of all the new \"Does(uSv)\" columns\n",
    "\n",
    "    # Create a sum row and add it to the DataFrame\n",
    "    sum_row_label = ['Total'] + [''] * (df.shape[1] - len(does_columns) - 1)  # Set 'Total' label for first column\n",
    "    sum_row_full = pd.DataFrame([sum_row_label + sum_row.tolist()], columns=df.columns)\n",
    "\n",
    "    # Append the sum row to the DataFrame\n",
    "    df = pd.concat([df, sum_row_full], ignore_index=True)\n",
    "    doespar_file = Path(doespar_path)\n",
    "    sheet_name = f\"{doespar_file.stem}\"  # Create the new sheet name\n",
    "\n",
    "    with pd.ExcelWriter(excel_path, mode='a', engine='openpyxl', if_sheet_exists = 'replace') as writer:\n",
    "        df.to_excel(writer, sheet_name=sheet_name, index=False)\n",
    "\n",
    "    # Reopen the workbook to apply formatting\n",
    "    workbook = load_workbook(excel_path)\n",
    "    # Set column width and alignment for the new sheet\n",
    "    worksheet = workbook[sheet_name]\n",
    "    for column in worksheet.columns:\n",
    "        column_letter = column[0].column_letter\n",
    "        worksheet.column_dimensions[column_letter].width = 14\n",
    "        for cell in column:  # Align each cell in the column\n",
    "            cell.alignment = Alignment(horizontal='right')\n",
    "            # Save the workbook\n",
    "    workbook.save(excel_path)"
   ]
  },
  {
   "cell_type": "code",
   "execution_count": 83,
   "id": "fdd23837-105d-4617-a1ab-e494cdb39e6e",
   "metadata": {},
   "outputs": [],
   "source": [
    "excel_path = \"example/DoesCal.xlsx\"\n",
    "txt_file_path1 = \"example/DoesPar/Body_unshield.txt\"\n",
    "txt_file_path2 = \"example/DoesPar/Body_shield.txt\"\n",
    "CalDoes(excel_path, txt_file_path1) \n",
    "CalDoes(excel_path, txt_file_path2) "
   ]
  },
  {
   "cell_type": "code",
   "execution_count": null,
   "id": "6cc7bdbe-d291-4743-b8bb-ba709c0541d0",
   "metadata": {},
   "outputs": [],
   "source": []
  }
 ],
 "metadata": {
  "kernelspec": {
   "display_name": "Python 3 (ipykernel)",
   "language": "python",
   "name": "python3"
  },
  "language_info": {
   "codemirror_mode": {
    "name": "ipython",
    "version": 3
   },
   "file_extension": ".py",
   "mimetype": "text/x-python",
   "name": "python",
   "nbconvert_exporter": "python",
   "pygments_lexer": "ipython3",
   "version": "3.12.0"
  }
 },
 "nbformat": 4,
 "nbformat_minor": 5
}
