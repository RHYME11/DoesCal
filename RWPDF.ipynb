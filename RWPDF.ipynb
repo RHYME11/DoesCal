{
 "cells": [
  {
   "cell_type": "markdown",
   "id": "eb0c4343-48c7-4b5a-81b0-0ec44456134f",
   "metadata": {},
   "source": [
    "# Read PACE4 Result and Write in Excel\n",
    "---\n",
    "\n",
    "Save PACE4 result as PDF"
   ]
  },
  {
   "cell_type": "code",
   "execution_count": 1,
   "id": "6da3b85b-0158-4135-95e7-9e1f259bbdba",
   "metadata": {},
   "outputs": [],
   "source": [
    "import pdfplumber\n",
    "import re\n",
    "import pandas as pd\n",
    "from openpyxl import load_workbook\n",
    "from openpyxl.utils import get_column_letter\n",
    "from openpyxl.styles import Alignment  # Ensure Alignment is imported"
   ]
  },
  {
   "cell_type": "raw",
   "id": "9c444fee-d602-450c-bd36-402c5f2edc50",
   "metadata": {
    "jupyter": {
     "source_hidden": true
    },
    "scrolled": true
   },
   "source": [
    "with pdfplumber.open(\"/Users/yiyizhu/Packages/DoesCal/example/Kr84_Al27_420MeV.pdf\") as pdf:\n",
    "    #for page in pdf.pages:\n",
    "    for index, page in enumerate(pdf.pages):\n",
    "        print(f\"\\n\\n\\n\")\n",
    "        # Extract text from the page\n",
    "        text = page.extract_text()\n",
    "        print(f\"page{index}: {text}\")"
   ]
  },
  {
   "cell_type": "raw",
   "id": "70ef812f-6b3e-44be-b8ef-ff6c4cc90395",
   "metadata": {
    "jupyter": {
     "source_hidden": true
    }
   },
   "source": [
    "keywords = [\"Fusion xsection taken from Bass model\", \"Starting conditions\"]\n",
    "with pdfplumber.open(\"/Users/yiyizhu/Packages/DoesCal/example/Kr84_Al27_420MeV.pdf\") as pdf:\n",
    "    for page_num, page in enumerate(pdf.pages, start=1):\n",
    "        text = page.extract_text()\n",
    "        if text:\n",
    "            lines = text.split('\\n')\n",
    "            for i, line in enumerate(lines):\n",
    "                keyword = keywords[0]\n",
    "                if keyword.lower() in line.lower():\n",
    "                    print(f\"Keyword '{keyword}' found on page {page_num}\")\n",
    "                    if i + 1 < len(lines):\n",
    "                        print(f\"First line below keyword: {lines[i + 1]}\")\n",
    "                    else:\n",
    "                        print(\"No line found below the keyword.\")"
   ]
  },
  {
   "cell_type": "raw",
   "id": "47d50e79-4bc7-4f53-a2b5-126caac1c7ba",
   "metadata": {
    "jupyter": {
     "source_hidden": true
    }
   },
   "source": [
    "keywords = [\"Fusion xsection taken from Bass model\", \n",
    "            \"Starting conditions\"]\n",
    "\n",
    "# Read Pdf:\n",
    "with pdfplumber.open(\"/Users/yiyizhu/Packages/DoesCal/example/Kr84_Al27_420MeV.pdf\") as pdf:\n",
    "    print(f\"{pdf.pages[0]}\")\n",
    "    for page_num, page in enumerate(pdf.pages, start=1):\n",
    "        text = page.extract_text()\n",
    "        if text:\n",
    "            lines = text.split('\\n')\n",
    "            for i, line in enumerate(lines):\n",
    "                keyword = keywords[0]\n",
    "                if keyword.lower() in line.lower():\n",
    "                    if i + 1 < len(lines):\n",
    "                        next_line = lines[i+1]\n",
    "                        if \"MeV\" in next_line:\n",
    "                            match = re.search(r'(\\d+(\\.\\d+)?)\\s*MeV', next_line)\n",
    "                            if match:\n",
    "                                number = float(match.group(1))\n"
   ]
  },
  {
   "cell_type": "raw",
   "id": "a01e465a-06ec-4afc-a2f1-7e2127fcdf32",
   "metadata": {
    "collapsed": true,
    "jupyter": {
     "outputs_hidden": true,
     "source_hidden": true
    },
    "scrolled": true
   },
   "source": [
    "keywords = [\"Yields of residual nuclei\", \n",
    "            \"Angular distribution results\"]\n",
    "# Read Pdf:\n",
    "start_flag = False \n",
    "end_flag = False\n",
    "production_inf = []\n",
    "with pdfplumber.open(\"/Users/yiyizhu/Packages/DoesCal/example/Kr84_Al27_420MeV.pdf\") as pdf:\n",
    "    for page_num, page in enumerate(pdf.pages, start=1):\n",
    "        if start_flag and end_flag: break\n",
    "        text = page.extract_text()\n",
    "        if text:\n",
    "            lines = text.split('\\n')\n",
    "            for i, line in enumerate(lines):\n",
    "                if \"Yields of residual nuclei\" in line: \n",
    "                    start_flag = True\n",
    "                    continue\n",
    "                if \"Angular distribution results\" in line: \n",
    "                    end_flag = True\n",
    "                    break\n",
    "                if start_flag and not end_flag:\n",
    "                    #production_inf.append(' '.join(line.split()))\n",
    "                    production_inf.append(line.split())\n",
    "\n",
    "\n",
    "\n",
    "\n",
    "    \n",
    "for line in production_inf:\n",
    "    print(line)\n"
   ]
  },
  {
   "cell_type": "code",
   "execution_count": 2,
   "id": "53e35cd4-d9f8-4ade-9c6f-191597fb6206",
   "metadata": {},
   "outputs": [],
   "source": [
    "def Extract_CompoundInf(text):\n",
    "    # Return Values:\n",
    "    Coulomb_Barrier = -1\n",
    "    Center_Mass = -1\n",
    "    Recoil_Energy = -1\n",
    "    Beam_Energy = -1\n",
    "    \n",
    "    lines = text.split('\\n')\n",
    "    # loop all lines in this text(page)\n",
    "    for i, line in enumerate(lines):\n",
    "        if \"Bass fusion xsection for E = \" in line:\n",
    "            match = re.search(r'Bass fusion xsection for E = (\\d+(\\.\\d+)?)\\s*MeV', line)\n",
    "            if match:\n",
    "                Beam_Energy = float(match.group(1))\n",
    "                continue\n",
    "        if \"Barrier height\" in line:\n",
    "            match = re.search(r'Barrier height is (\\d+(\\.\\d+)?)\\s*MeV', line)\n",
    "            if match:\n",
    "                Coulomb_Barrier = float(match.group(1))\n",
    "                continue\n",
    "        if \"Center of mass energy (MeV)\" in line:\n",
    "            match = re.search(r'Center of mass energy \\(MeV\\)\\s*(\\d+(\\.\\d+)?)', line)\n",
    "            if match:\n",
    "                Center_Mass = float(match.group(1))\n",
    "                continue\n",
    "        if \"Compound nucleus recoil energy (MeV)\" in line:\n",
    "            match = re.search(r'Compound nucleus recoil energy \\(MeV\\)\\s*(\\d+(\\.\\d+)?)', line)\n",
    "            if match:\n",
    "                Recoil_Energy = float(match.group(1))\n",
    "                break\n",
    "\n",
    "    if Beam_Energy<0:\n",
    "        print(\"Beam energy NOT Found\")\n",
    "    if Coulomb_Barrier<0:\n",
    "        print(\"Barrier height NOT Found\")\n",
    "    if Center_Mass<0:\n",
    "        print(\"Center of mass energy NOT Found\")\n",
    "    if Recoil_Energy<0:\n",
    "        print(\"Compound nucleus recoil energy NOT Found\")\n",
    "    \n",
    "        \n",
    "    return Beam_Energy, Coulomb_Barrier, Center_Mass, Recoil_Energy"
   ]
  },
  {
   "cell_type": "code",
   "execution_count": 3,
   "id": "78d8e927-866b-4ca7-a685-98806e1f9ffd",
   "metadata": {},
   "outputs": [],
   "source": [
    "def Extract_ProductInf(pdf):\n",
    "    start_flag = False \n",
    "    end_flag = False\n",
    "    Production_Inf = []\n",
    "    for page_num, page in enumerate(pdf.pages[1:]):\n",
    "        if start_flag and end_flag: break\n",
    "        text = page.extract_text()\n",
    "        if text:\n",
    "            lines = text.split('\\n')\n",
    "            for i, line in enumerate(lines):\n",
    "                if \"Yields of residual nuclei\" in line: \n",
    "                    start_flag = True\n",
    "                    continue\n",
    "                if \"Angular distribution results\" in line: \n",
    "                    end_flag = True\n",
    "                    break\n",
    "                if start_flag and not end_flag:\n",
    "                    Production_Inf.append(line.split())\n",
    "    if not Production_Inf:\n",
    "        print(\"Yields of residual nuclei NOT Found\")\n",
    "    return Production_Inf"
   ]
  },
  {
   "cell_type": "code",
   "execution_count": 4,
   "id": "5ec9c865-b54f-445b-a817-10f207bb4926",
   "metadata": {},
   "outputs": [],
   "source": [
    "def Filter_Inf(Production):\n",
    "    # If production cross pages, there will be line written in \"Production\" with one element which returns page number\n",
    "    # So we need to delete it first\n",
    "    Production = [row for row in Production if len(row) > 1]\n",
    "\n",
    "    # Take out the last line which contains total information for the reaction\n",
    "    # Then delete it from \"Production\"\n",
    "    Total = Production[-1]\n",
    "    Production = Production[:-1]\n",
    "\n",
    "    # Add \"isotop for the Column name\"\n",
    "    Production[0].insert(3, \"isotope\")\n",
    "    \n",
    "    # Only Record Z, N, A, isotope, xsection information into Excel\n",
    "    # And convert all values to int or float\n",
    "    Production_Record = [[row[0], row[1], row[2], row[3], row[6]] for row in Production]\n",
    "    for row in Production_Record[1:]:\n",
    "        row[0] = int(row[0])  # Convert Z to int\n",
    "        row[1] = int(row[1])  # Convert N to int\n",
    "        row[2] = int(row[2])  # Convert A to int\n",
    "        row[4] = float(row[4])  # Convert x-section(mb) to float\n",
    "    \n",
    "    return Total, Production_Record"
   ]
  },
  {
   "cell_type": "code",
   "execution_count": 9,
   "id": "996fe790-9ea0-4cf6-a912-7305191ee72e",
   "metadata": {},
   "outputs": [],
   "source": [
    "def Write_Excel(Production_Record, Total, file_path, Beam_Energy=0, Recoil_Energy=0):\n",
    "    #================== Update \"Initial\" sheet ================#\n",
    "    # Load the existing workbook and the \"Initial\" sheet\n",
    "    workbook = load_workbook(file_path)\n",
    "    existing_df = pd.read_excel(file_path, sheet_name=\"Initial\", engine='openpyxl')\n",
    "    \n",
    "    # Update the existing DataFrame with recoil energy and total x-sec for the current beam energy\n",
    "    row_index = existing_df[existing_df[\"Beam Energy (MeV)\"] == Beam_Energy].index[0]\n",
    "    existing_df.at[row_index, \"Recoil Energy (MeV)\"] = Recoil_Energy\n",
    "    existing_df.at[row_index, \"Total xsec (mb)\"] = float(Total[-1])\n",
    "\n",
    "    # Write the updated DataFrame back to the \"Initial\" sheet\n",
    "    existing_worksheet = workbook[\"Initial\"] \n",
    "    for row in range(len(existing_df)):\n",
    "        for col in range(len(existing_df.columns)):\n",
    "            existing_worksheet.cell(row=row + 2, column=col + 1, value=existing_df.iat[row, col])  # +2 to account for header\n",
    "    # Save the workbook after updating the existing sheet\n",
    "    workbook.save(file_path)\n",
    "\n",
    "    #================== Create new sheet for PACE4 result ================#\n",
    "    # Convert the first row as headers and the rest recorded into DataFrame\n",
    "    df = pd.DataFrame(Production_Record[1:], columns=Production_Record[0])\n",
    "    \n",
    "    # Create a new row for the DataFrame based on Total\n",
    "    total_row = pd.DataFrame({\n",
    "        'Z': [Total[0]],  # The first element of Total in 'Z' column\n",
    "        'x-section(mb)': [float(Total[-1])]  # The last element of Total in 'x-section(mb)' column\n",
    "    })\n",
    "    \n",
    "    # Append the total_row to the DataFrame\n",
    "    df = pd.concat([df, total_row], ignore_index=True)\n",
    "    \n",
    "    # Create a new sheet name based on Beam Energy\n",
    "    new_sheet_name = f'{Beam_Energy}MeV'\n",
    "\n",
    "    # Now create the new sheet with the updated DataFrame\n",
    "    with pd.ExcelWriter(file_path, mode='a', engine='openpyxl', if_sheet_exists='replace') as writer:\n",
    "        df.to_excel(writer, sheet_name=new_sheet_name, index=False)\n",
    "\n",
    "    # Reopen the workbook to apply formatting\n",
    "    workbook = load_workbook(file_path)\n",
    "\n",
    "    # Set column width and alignment for the new sheet\n",
    "    worksheet = workbook[new_sheet_name]\n",
    "    for column in worksheet.columns:\n",
    "        column_letter = column[0].column_letter\n",
    "        worksheet.column_dimensions[column_letter].width = 16\n",
    "        for cell in column:  # Align each cell in the column\n",
    "            cell.alignment = Alignment(horizontal='right')\n",
    "   \n",
    "    # Final save\n",
    "    workbook.save(file_path)\n",
    "    \n"
   ]
  },
  {
   "cell_type": "code",
   "execution_count": 11,
   "id": "8a97fff5-fad7-4244-b1b2-7a6c0e3b2d65",
   "metadata": {},
   "outputs": [],
   "source": [
    "# Read Pdf:\n",
    "with pdfplumber.open(\"/Users/yiyizhu/Packages/DoesCal/example/PACE4/Kr84_Al27_420MeV.pdf\") as pdf:\n",
    "    # Extract basic information for this reaction\n",
    "    page = pdf.pages[0]\n",
    "    text = page.extract_text()\n",
    "    Beam_Energy, Coulomb_Barrier, Center_Mass, Recoil_Energy = Extract_CompoundInf(text)\n",
    "    # Extract info for productions from the reaction\n",
    "    Production = Extract_ProductInf(pdf)\n",
    "\n",
    "# Filter Production info to write them into Spreadsheet\n",
    "Total, Production_Record = Filter_Inf(Production)\n",
    "\n",
    "# Write Production Info into Excel:\n",
    "file_path = \"/Users/yiyizhu/Packages/DoesCal/example/DoesCal.xlsx\"\n",
    "Write_Excel(Production_Record, Total, file_path, Beam_Energy, Recoil_Energy)    "
   ]
  },
  {
   "cell_type": "code",
   "execution_count": null,
   "id": "f515aef7-0f24-4438-b09e-7dd6212d6559",
   "metadata": {},
   "outputs": [],
   "source": []
  }
 ],
 "metadata": {
  "kernelspec": {
   "display_name": "Python 3 (ipykernel)",
   "language": "python",
   "name": "python3"
  },
  "language_info": {
   "codemirror_mode": {
    "name": "ipython",
    "version": 3
   },
   "file_extension": ".py",
   "mimetype": "text/x-python",
   "name": "python",
   "nbconvert_exporter": "python",
   "pygments_lexer": "ipython3",
   "version": "3.12.0"
  }
 },
 "nbformat": 4,
 "nbformat_minor": 5
}
