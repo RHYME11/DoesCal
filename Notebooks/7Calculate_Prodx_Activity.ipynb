{
 "cells": [
  {
   "cell_type": "markdown",
   "id": "9dc120cd-13e1-49b3-b144-cb91a8668e9d",
   "metadata": {},
   "source": [
    "## Calculate Production Activity at CoolDown T = 0\n",
    "---\n",
    "A = Prodx_Rate * (1-exp(-0.693/halflife * beam_time)) * Stop_Ratio\n",
    "+ Everything in the equation above is in seconds"
   ]
  },
  {
   "cell_type": "code",
   "execution_count": 1,
   "id": "5634d9ec-0705-45d6-9988-1f0740014c9d",
   "metadata": {},
   "outputs": [],
   "source": [
    "import pdfplumber\n",
    "import numpy as np\n",
    "import os\n",
    "import re\n",
    "import pandas as pd\n",
    "from openpyxl import load_workbook\n",
    "from openpyxl.utils import get_column_letter\n",
    "from openpyxl.styles import Font, PatternFill, Border, Alignment"
   ]
  },
  {
   "cell_type": "raw",
   "id": "a93cf8fb-e479-4400-8e16-95fc2d095205",
   "metadata": {
    "jupyter": {
     "source_hidden": true
    }
   },
   "source": [
    "excel_path = \"example/DoesCal.xlsx\"\n",
    "sheets = pd.read_excel(excel_path, sheet_name=None)\n",
    "workbook = load_workbook(excel_path)\n",
    "sheet_names = workbook.sheetnames\n",
    "df = sheets[\"Initial\"]\n",
    "beam_col_index = df.columns.get_loc('Beam')\n",
    "beam_rate_row_idx = df[df.iloc[:, beam_col_index + 2] == 'pps'].index[0]\n",
    "beam_rate = df.iloc[beam_rate_row_idx, beam_col_index + 1]\n",
    "\n",
    "sheet_name = \"0um_420MeV\"\n",
    "df = sheets[sheet_name]\n",
    "if \"Prodx A(Bq)\" not in df.columns:\n",
    "    df[\"Prodx A(Bq)\"] = -1.0\n",
    "for idx in range(len(df)-1):\n",
    "    prodx_rate = df.at[idx,'Prodx_Rate(pps)']\n",
    "    halflife = df.at[idx,'t1/2(s)']\n",
    "    stop_ratio = df.at[idx,'Stop_Ratio']\n",
    "    df.at[idx,\"Prodx A(Bq)\"] = prodx_rate * (1 - np.exp(-0.693/halflife * beam_rate)) * stop_ratio"
   ]
  },
  {
   "cell_type": "code",
   "execution_count": 2,
   "id": "4c7e225f-070a-4764-8cb6-a032d6d23a4f",
   "metadata": {},
   "outputs": [],
   "source": [
    "def Cal_Prodx_A(excel_path):\n",
    "    sheets = pd.read_excel(excel_path, sheet_name=None)\n",
    "    workbook = load_workbook(excel_path)\n",
    "    sheet_names = workbook.sheetnames\n",
    "\n",
    "    df = sheets[\"Initial\"]\n",
    "    beam_col_index = df.columns.get_loc('Beam')\n",
    "    run_time_row_idx = df[df.iloc[:, beam_col_index + 2] == 'sec'].index[0]\n",
    "    run_time = df.iloc[run_time_row_idx, beam_col_index + 1]\n",
    "\n",
    "    for sheet_name in sheet_names:\n",
    "        if \"MeV\" in sheet_name:\n",
    "            df = sheets[sheet_name]\n",
    "            if \"Prodx A(Bq)\" not in df.columns:\n",
    "                df[\"Prodx_A(Bq)\"] = -1.0\n",
    "            df.at[df.index[-1], \"Prodx A(Bq)\"] = np.nan\n",
    "            for idx in range(len(df)-1):\n",
    "                prodx_rate = df.at[idx,'Prodx_Rate(pps)']\n",
    "                halflife = df.at[idx,'t1/2(s)']\n",
    "                stop_ratio = df.at[idx,'Stop_Ratio']\n",
    "                df.at[idx,\"Prodx_A(Bq)\"] = prodx_rate * (1 - np.exp(-0.693/halflife * run_time)) * stop_ratio\n",
    "\n",
    "            # Save df back to Excel\n",
    "            with pd.ExcelWriter(excel_path, engine='openpyxl', mode='a', if_sheet_exists='replace') as writer:\n",
    "                df.to_excel(writer, sheet_name=sheet_name, index=False)\n",
    "            # Reopen the workbook to apply formatting\n",
    "            workbook = load_workbook(excel_path)\n",
    "            # Set column width and alignment for the new sheet\n",
    "            worksheet = workbook[sheet_name]\n",
    "            for column in worksheet.columns:\n",
    "                column_letter = column[0].column_letter\n",
    "                worksheet.column_dimensions[column_letter].width = 16\n",
    "                for cell in column:  # Align each cell in the column\n",
    "                    cell.alignment = Alignment(horizontal='right')\n",
    "            # Save the workbook\n",
    "            workbook.save(excel_path)"
   ]
  },
  {
   "cell_type": "raw",
   "id": "973d6b8c-b63c-4364-8e05-1dbb570e309d",
   "metadata": {},
   "source": [
    "excel_path = \"example/DoesCal.xlsx\"\n",
    "Cal_Prodx_A(excel_path)"
   ]
  },
  {
   "cell_type": "markdown",
   "id": "965b8a6f-5764-471f-9219-9f08954fc207",
   "metadata": {},
   "source": [
    "## Summarize sub-sheets"
   ]
  },
  {
   "cell_type": "raw",
   "id": "b203b425-7211-4b7b-be7a-5fd798aac5f0",
   "metadata": {
    "jupyter": {
     "source_hidden": true
    }
   },
   "source": [
    "# Load the Excel file\n",
    "excel_path = 'example/DoesCal.xlsx'\n",
    "sheets = pd.read_excel(excel_path, sheet_name=None)\n",
    "workbook = load_workbook(excel_path)\n",
    "\n",
    "# Extract data from sheets named \"*um_*MeV\"\n",
    "data_frames = []\n",
    "for sheet_name in workbook.sheetnames:\n",
    "    if 'um_' in sheet_name and 'MeV' in sheet_name:\n",
    "        df = sheets[sheet_name][['A', 'isotope', 'Prodx_A(Bq)']]\n",
    "        df.columns = ['A', 'isotope', f'A(Bq)@{sheet_name.split(\"um_\")[0]}um']\n",
    "        data_frames.append((int(sheet_name.split('um_')[0]), df))\n",
    "\n",
    "# Sort data_frames by the numeric value in the sheet names\n",
    "data_frames.sort(key=lambda x: x[0])\n",
    "\n",
    "# Extract only the DataFrames in the correct order\n",
    "data_frames = [df for _, df in data_frames]\n",
    "\n",
    "# Merge all data frames on 'A' and 'isotope'\n",
    "merged_df = data_frames[0]\n",
    "for df in data_frames[1:]:\n",
    "    merged_df = pd.merge(merged_df, df, on=['A', 'isotope'], how='outer')\n",
    "\n",
    "# Reorder by \"A\" from large to small, and then by \"isotope\" keyword\n",
    "merged_df['isotope_keyword'] = merged_df['isotope'].str.replace(' isomer', '')\n",
    "merged_df = merged_df.sort_values(by=['A', 'isotope_keyword', 'isotope'], ascending=[False, True, True])\n",
    "# Drop the temporary column used for sorting\n",
    "merged_df = merged_df.drop(columns=['isotope_keyword'])\n",
    "\n",
    "# Round all \"Prodx\" columns to 2 decimal places\n",
    "for col in merged_df.columns:\n",
    "    if \"A(Bq)\" in col:\n",
    "        merged_df[col] = merged_df[col].round(2)\n",
    "\n",
    "# Save the updated workbook\n",
    "with pd.ExcelWriter(excel_path, engine='openpyxl', mode='a', if_sheet_exists = 'replace') as writer:\n",
    "    merged_df.to_excel(writer, sheet_name='Summary', index=False)\n",
    "\n",
    "# Reopen the workbook to apply formatting\n",
    "workbook = load_workbook(excel_path)\n",
    "# Set column width and alignment for the new sheet\n",
    "worksheet = workbook['Summary']\n",
    "for column in worksheet.columns:\n",
    "    column_letter = column[0].column_letter\n",
    "    worksheet.column_dimensions[column_letter].width = 14\n",
    "    for cell in column:  # Align each cell in the column\n",
    "        cell.alignment = Alignment(horizontal='right')\n",
    "        # Save the workbook\n",
    "workbook.save(excel_path)"
   ]
  },
  {
   "cell_type": "code",
   "execution_count": 8,
   "id": "fe64a091-3654-4f88-b85b-c2ed4c0ac872",
   "metadata": {},
   "outputs": [],
   "source": [
    "def summarize(excel_path, clean_table = True):\n",
    "    sheets = pd.read_excel(excel_path, sheet_name=None)\n",
    "    workbook = load_workbook(excel_path)\n",
    "\n",
    "    # Extract data from sheets named \"*um_*MeV\"\n",
    "    data_frames = []\n",
    "    for sheet_name in workbook.sheetnames:\n",
    "        if 'um_' in sheet_name and 'MeV' in sheet_name:\n",
    "            df = sheets[sheet_name][['A', 'isotope', 't1/2', 'unit', 'Prodx_A(Bq)']]\n",
    "            df.columns = ['A', 'isotope', 't1/2', 'unit', f'A(Bq)@{sheet_name.split(\"um_\")[0]}um']\n",
    "            data_frames.append((int(sheet_name.split('um_')[0]), df))\n",
    "\n",
    "    # Sort data_frames by the numeric value in the sheet names\n",
    "    data_frames.sort(key=lambda x: x[0])\n",
    "\n",
    "    # Extract only the DataFrames in the correct order\n",
    "    data_frames = [df for _, df in data_frames]\n",
    "\n",
    "    # Merge all data frames on 'A' and 'isotope'\n",
    "    merged_df = data_frames[0]\n",
    "    for df in data_frames[1:]:\n",
    "        merged_df = pd.merge(merged_df, df, on=['A', 't1/2', 'unit', 'isotope'], how='outer')\n",
    "\n",
    "    # Reorder by \"A\" from large to small, and then by \"isotope\" keyword\n",
    "    merged_df['isotope_keyword'] = merged_df['isotope'].str.replace(' isomer', '')\n",
    "    merged_df = merged_df.sort_values(by=['A', 'isotope_keyword', 'isotope'], ascending=[False, True, True])\n",
    "    # Drop the temporary column used for sorting\n",
    "    merged_df = merged_df.drop(columns=['isotope_keyword'])\n",
    "    \n",
    "    # Round all \"Prodx\" columns to 2 decimal places\n",
    "    for col in merged_df.columns:\n",
    "        if \"um\" in col:\n",
    "            merged_df[col] = merged_df[col].fillna(0).round(2)\n",
    "\n",
    "    # Add the new column \"A(Bq)@cd = 0s\" if it doesn't exist\n",
    "    if \"A(Bq)@cd = 0s\" not in merged_df.columns:\n",
    "        merged_df[\"A(Bq)@cd = 0s\"] = -1\n",
    "\n",
    "    # Calculate the sum of all \"A(Bq)@*um\" columns for each row\n",
    "    sum_columns = [col for col in merged_df.columns if \"um\" in col]\n",
    "    merged_df[\"A(Bq)@cd = 0s\"] = merged_df[sum_columns].sum(axis=1)\n",
    "\n",
    "    # Remove rows where \"A(Bq)@cd = 0s\" is 0\n",
    "    if clean_table:\n",
    "        merged_df = merged_df[merged_df[\"A(Bq)@cd = 0s\"] != 0]\n",
    "        merged_df = merged_df[merged_df[\"t1/2\"] < 1e9]\n",
    "    \n",
    "    # Save the updated workbook\n",
    "    with pd.ExcelWriter(excel_path, engine='openpyxl', mode='a', if_sheet_exists = 'replace') as writer:\n",
    "        merged_df.to_excel(writer, sheet_name='Summary_Act', index=False)\n",
    "\n",
    "    # Reopen the workbook to apply formatting\n",
    "    workbook = load_workbook(excel_path)\n",
    "    # Set column width and alignment for the new sheet\n",
    "    worksheet = workbook['Summary_Act']\n",
    "    for column in worksheet.columns:\n",
    "        column_letter = column[0].column_letter\n",
    "        worksheet.column_dimensions[column_letter].width = 14\n",
    "        for cell in column:  # Align each cell in the column\n",
    "            cell.alignment = Alignment(horizontal='right')\n",
    "            # Save the workbook\n",
    "    workbook.save(excel_path)"
   ]
  },
  {
   "cell_type": "code",
   "execution_count": 2,
   "id": "80f953ce-3f85-4b10-8d88-f98adb8fb6a7",
   "metadata": {},
   "outputs": [],
   "source": [
    "#============= convert all half-lives to seconds (Created in Step 4) =============#\n",
    "def HalfLife_Unit_Factor(unit):\n",
    "    fac = 0\n",
    "    if unit == \"s\":\n",
    "        fac = 1;\n",
    "    if unit == \"m\":\n",
    "        fac = 60;\n",
    "    if unit == \"h\":\n",
    "        fac = 60*60;\n",
    "    if unit == \"d\":\n",
    "        fac = 24*60*60;\n",
    "    if unit == \"y\":\n",
    "        fac = 365*24*60*60;\n",
    "    return fac"
   ]
  },
  {
   "cell_type": "markdown",
   "id": "63cccd6f-1d88-40f8-97a4-61b5a3a21969",
   "metadata": {},
   "source": [
    "### Calculate A(Bq) with different cd time"
   ]
  },
  {
   "cell_type": "code",
   "execution_count": 3,
   "id": "50f903f6-9dda-4a8a-9eee-6bf2c88177fa",
   "metadata": {
    "collapsed": true,
    "jupyter": {
     "outputs_hidden": true
    }
   },
   "outputs": [
    {
     "ename": "ValueError",
     "evalue": "Worksheet named 'Summary_Act' not found",
     "output_type": "error",
     "traceback": [
      "\u001b[0;31m---------------------------------------------------------------------------\u001b[0m",
      "\u001b[0;31mValueError\u001b[0m                                Traceback (most recent call last)",
      "Cell \u001b[0;32mIn[3], line 2\u001b[0m\n\u001b[1;32m      1\u001b[0m excel_path \u001b[38;5;241m=\u001b[39m \u001b[38;5;124m\"\u001b[39m\u001b[38;5;124mexample/DoesCal.xlsx\u001b[39m\u001b[38;5;124m\"\u001b[39m\n\u001b[0;32m----> 2\u001b[0m df \u001b[38;5;241m=\u001b[39m \u001b[43mpd\u001b[49m\u001b[38;5;241;43m.\u001b[39;49m\u001b[43mread_excel\u001b[49m\u001b[43m(\u001b[49m\u001b[43mexcel_path\u001b[49m\u001b[43m,\u001b[49m\u001b[43m \u001b[49m\u001b[43msheet_name\u001b[49m\u001b[38;5;241;43m=\u001b[39;49m\u001b[38;5;124;43m'\u001b[39;49m\u001b[38;5;124;43mSummary_Act\u001b[39;49m\u001b[38;5;124;43m'\u001b[39;49m\u001b[43m)\u001b[49m\n\u001b[1;32m      4\u001b[0m t \u001b[38;5;241m=\u001b[39m \u001b[38;5;124m\"\u001b[39m\u001b[38;5;124m1days\u001b[39m\u001b[38;5;124m\"\u001b[39m\n\u001b[1;32m      5\u001b[0m df[\u001b[38;5;124m'\u001b[39m\u001b[38;5;124mt1/2_seconds\u001b[39m\u001b[38;5;124m'\u001b[39m] \u001b[38;5;241m=\u001b[39m df\u001b[38;5;241m.\u001b[39mapply(\u001b[38;5;28;01mlambda\u001b[39;00m row: row[\u001b[38;5;124m'\u001b[39m\u001b[38;5;124mt1/2\u001b[39m\u001b[38;5;124m'\u001b[39m] \u001b[38;5;241m*\u001b[39m HalfLife_Unit_Factor(row[\u001b[38;5;124m'\u001b[39m\u001b[38;5;124munit\u001b[39m\u001b[38;5;124m'\u001b[39m]), axis\u001b[38;5;241m=\u001b[39m\u001b[38;5;241m1\u001b[39m)\n",
      "File \u001b[0;32m/Library/Frameworks/Python.framework/Versions/3.12/lib/python3.12/site-packages/pandas/io/excel/_base.py:508\u001b[0m, in \u001b[0;36mread_excel\u001b[0;34m(io, sheet_name, header, names, index_col, usecols, dtype, engine, converters, true_values, false_values, skiprows, nrows, na_values, keep_default_na, na_filter, verbose, parse_dates, date_parser, date_format, thousands, decimal, comment, skipfooter, storage_options, dtype_backend, engine_kwargs)\u001b[0m\n\u001b[1;32m    502\u001b[0m     \u001b[38;5;28;01mraise\u001b[39;00m \u001b[38;5;167;01mValueError\u001b[39;00m(\n\u001b[1;32m    503\u001b[0m         \u001b[38;5;124m\"\u001b[39m\u001b[38;5;124mEngine should not be specified when passing \u001b[39m\u001b[38;5;124m\"\u001b[39m\n\u001b[1;32m    504\u001b[0m         \u001b[38;5;124m\"\u001b[39m\u001b[38;5;124man ExcelFile - ExcelFile already has the engine set\u001b[39m\u001b[38;5;124m\"\u001b[39m\n\u001b[1;32m    505\u001b[0m     )\n\u001b[1;32m    507\u001b[0m \u001b[38;5;28;01mtry\u001b[39;00m:\n\u001b[0;32m--> 508\u001b[0m     data \u001b[38;5;241m=\u001b[39m \u001b[43mio\u001b[49m\u001b[38;5;241;43m.\u001b[39;49m\u001b[43mparse\u001b[49m\u001b[43m(\u001b[49m\n\u001b[1;32m    509\u001b[0m \u001b[43m        \u001b[49m\u001b[43msheet_name\u001b[49m\u001b[38;5;241;43m=\u001b[39;49m\u001b[43msheet_name\u001b[49m\u001b[43m,\u001b[49m\n\u001b[1;32m    510\u001b[0m \u001b[43m        \u001b[49m\u001b[43mheader\u001b[49m\u001b[38;5;241;43m=\u001b[39;49m\u001b[43mheader\u001b[49m\u001b[43m,\u001b[49m\n\u001b[1;32m    511\u001b[0m \u001b[43m        \u001b[49m\u001b[43mnames\u001b[49m\u001b[38;5;241;43m=\u001b[39;49m\u001b[43mnames\u001b[49m\u001b[43m,\u001b[49m\n\u001b[1;32m    512\u001b[0m \u001b[43m        \u001b[49m\u001b[43mindex_col\u001b[49m\u001b[38;5;241;43m=\u001b[39;49m\u001b[43mindex_col\u001b[49m\u001b[43m,\u001b[49m\n\u001b[1;32m    513\u001b[0m \u001b[43m        \u001b[49m\u001b[43musecols\u001b[49m\u001b[38;5;241;43m=\u001b[39;49m\u001b[43musecols\u001b[49m\u001b[43m,\u001b[49m\n\u001b[1;32m    514\u001b[0m \u001b[43m        \u001b[49m\u001b[43mdtype\u001b[49m\u001b[38;5;241;43m=\u001b[39;49m\u001b[43mdtype\u001b[49m\u001b[43m,\u001b[49m\n\u001b[1;32m    515\u001b[0m \u001b[43m        \u001b[49m\u001b[43mconverters\u001b[49m\u001b[38;5;241;43m=\u001b[39;49m\u001b[43mconverters\u001b[49m\u001b[43m,\u001b[49m\n\u001b[1;32m    516\u001b[0m \u001b[43m        \u001b[49m\u001b[43mtrue_values\u001b[49m\u001b[38;5;241;43m=\u001b[39;49m\u001b[43mtrue_values\u001b[49m\u001b[43m,\u001b[49m\n\u001b[1;32m    517\u001b[0m \u001b[43m        \u001b[49m\u001b[43mfalse_values\u001b[49m\u001b[38;5;241;43m=\u001b[39;49m\u001b[43mfalse_values\u001b[49m\u001b[43m,\u001b[49m\n\u001b[1;32m    518\u001b[0m \u001b[43m        \u001b[49m\u001b[43mskiprows\u001b[49m\u001b[38;5;241;43m=\u001b[39;49m\u001b[43mskiprows\u001b[49m\u001b[43m,\u001b[49m\n\u001b[1;32m    519\u001b[0m \u001b[43m        \u001b[49m\u001b[43mnrows\u001b[49m\u001b[38;5;241;43m=\u001b[39;49m\u001b[43mnrows\u001b[49m\u001b[43m,\u001b[49m\n\u001b[1;32m    520\u001b[0m \u001b[43m        \u001b[49m\u001b[43mna_values\u001b[49m\u001b[38;5;241;43m=\u001b[39;49m\u001b[43mna_values\u001b[49m\u001b[43m,\u001b[49m\n\u001b[1;32m    521\u001b[0m \u001b[43m        \u001b[49m\u001b[43mkeep_default_na\u001b[49m\u001b[38;5;241;43m=\u001b[39;49m\u001b[43mkeep_default_na\u001b[49m\u001b[43m,\u001b[49m\n\u001b[1;32m    522\u001b[0m \u001b[43m        \u001b[49m\u001b[43mna_filter\u001b[49m\u001b[38;5;241;43m=\u001b[39;49m\u001b[43mna_filter\u001b[49m\u001b[43m,\u001b[49m\n\u001b[1;32m    523\u001b[0m \u001b[43m        \u001b[49m\u001b[43mverbose\u001b[49m\u001b[38;5;241;43m=\u001b[39;49m\u001b[43mverbose\u001b[49m\u001b[43m,\u001b[49m\n\u001b[1;32m    524\u001b[0m \u001b[43m        \u001b[49m\u001b[43mparse_dates\u001b[49m\u001b[38;5;241;43m=\u001b[39;49m\u001b[43mparse_dates\u001b[49m\u001b[43m,\u001b[49m\n\u001b[1;32m    525\u001b[0m \u001b[43m        \u001b[49m\u001b[43mdate_parser\u001b[49m\u001b[38;5;241;43m=\u001b[39;49m\u001b[43mdate_parser\u001b[49m\u001b[43m,\u001b[49m\n\u001b[1;32m    526\u001b[0m \u001b[43m        \u001b[49m\u001b[43mdate_format\u001b[49m\u001b[38;5;241;43m=\u001b[39;49m\u001b[43mdate_format\u001b[49m\u001b[43m,\u001b[49m\n\u001b[1;32m    527\u001b[0m \u001b[43m        \u001b[49m\u001b[43mthousands\u001b[49m\u001b[38;5;241;43m=\u001b[39;49m\u001b[43mthousands\u001b[49m\u001b[43m,\u001b[49m\n\u001b[1;32m    528\u001b[0m \u001b[43m        \u001b[49m\u001b[43mdecimal\u001b[49m\u001b[38;5;241;43m=\u001b[39;49m\u001b[43mdecimal\u001b[49m\u001b[43m,\u001b[49m\n\u001b[1;32m    529\u001b[0m \u001b[43m        \u001b[49m\u001b[43mcomment\u001b[49m\u001b[38;5;241;43m=\u001b[39;49m\u001b[43mcomment\u001b[49m\u001b[43m,\u001b[49m\n\u001b[1;32m    530\u001b[0m \u001b[43m        \u001b[49m\u001b[43mskipfooter\u001b[49m\u001b[38;5;241;43m=\u001b[39;49m\u001b[43mskipfooter\u001b[49m\u001b[43m,\u001b[49m\n\u001b[1;32m    531\u001b[0m \u001b[43m        \u001b[49m\u001b[43mdtype_backend\u001b[49m\u001b[38;5;241;43m=\u001b[39;49m\u001b[43mdtype_backend\u001b[49m\u001b[43m,\u001b[49m\n\u001b[1;32m    532\u001b[0m \u001b[43m    \u001b[49m\u001b[43m)\u001b[49m\n\u001b[1;32m    533\u001b[0m \u001b[38;5;28;01mfinally\u001b[39;00m:\n\u001b[1;32m    534\u001b[0m     \u001b[38;5;66;03m# make sure to close opened file handles\u001b[39;00m\n\u001b[1;32m    535\u001b[0m     \u001b[38;5;28;01mif\u001b[39;00m should_close:\n",
      "File \u001b[0;32m/Library/Frameworks/Python.framework/Versions/3.12/lib/python3.12/site-packages/pandas/io/excel/_base.py:1616\u001b[0m, in \u001b[0;36mExcelFile.parse\u001b[0;34m(self, sheet_name, header, names, index_col, usecols, converters, true_values, false_values, skiprows, nrows, na_values, parse_dates, date_parser, date_format, thousands, comment, skipfooter, dtype_backend, **kwds)\u001b[0m\n\u001b[1;32m   1576\u001b[0m \u001b[38;5;28;01mdef\u001b[39;00m \u001b[38;5;21mparse\u001b[39m(\n\u001b[1;32m   1577\u001b[0m     \u001b[38;5;28mself\u001b[39m,\n\u001b[1;32m   1578\u001b[0m     sheet_name: \u001b[38;5;28mstr\u001b[39m \u001b[38;5;241m|\u001b[39m \u001b[38;5;28mint\u001b[39m \u001b[38;5;241m|\u001b[39m \u001b[38;5;28mlist\u001b[39m[\u001b[38;5;28mint\u001b[39m] \u001b[38;5;241m|\u001b[39m \u001b[38;5;28mlist\u001b[39m[\u001b[38;5;28mstr\u001b[39m] \u001b[38;5;241m|\u001b[39m \u001b[38;5;28;01mNone\u001b[39;00m \u001b[38;5;241m=\u001b[39m \u001b[38;5;241m0\u001b[39m,\n\u001b[0;32m   (...)\u001b[0m\n\u001b[1;32m   1596\u001b[0m     \u001b[38;5;241m*\u001b[39m\u001b[38;5;241m*\u001b[39mkwds,\n\u001b[1;32m   1597\u001b[0m ) \u001b[38;5;241m-\u001b[39m\u001b[38;5;241m>\u001b[39m DataFrame \u001b[38;5;241m|\u001b[39m \u001b[38;5;28mdict\u001b[39m[\u001b[38;5;28mstr\u001b[39m, DataFrame] \u001b[38;5;241m|\u001b[39m \u001b[38;5;28mdict\u001b[39m[\u001b[38;5;28mint\u001b[39m, DataFrame]:\n\u001b[1;32m   1598\u001b[0m \u001b[38;5;250m    \u001b[39m\u001b[38;5;124;03m\"\"\"\u001b[39;00m\n\u001b[1;32m   1599\u001b[0m \u001b[38;5;124;03m    Parse specified sheet(s) into a DataFrame.\u001b[39;00m\n\u001b[1;32m   1600\u001b[0m \n\u001b[0;32m   (...)\u001b[0m\n\u001b[1;32m   1614\u001b[0m \u001b[38;5;124;03m    >>> file.parse()  # doctest: +SKIP\u001b[39;00m\n\u001b[1;32m   1615\u001b[0m \u001b[38;5;124;03m    \"\"\"\u001b[39;00m\n\u001b[0;32m-> 1616\u001b[0m     \u001b[38;5;28;01mreturn\u001b[39;00m \u001b[38;5;28;43mself\u001b[39;49m\u001b[38;5;241;43m.\u001b[39;49m\u001b[43m_reader\u001b[49m\u001b[38;5;241;43m.\u001b[39;49m\u001b[43mparse\u001b[49m\u001b[43m(\u001b[49m\n\u001b[1;32m   1617\u001b[0m \u001b[43m        \u001b[49m\u001b[43msheet_name\u001b[49m\u001b[38;5;241;43m=\u001b[39;49m\u001b[43msheet_name\u001b[49m\u001b[43m,\u001b[49m\n\u001b[1;32m   1618\u001b[0m \u001b[43m        \u001b[49m\u001b[43mheader\u001b[49m\u001b[38;5;241;43m=\u001b[39;49m\u001b[43mheader\u001b[49m\u001b[43m,\u001b[49m\n\u001b[1;32m   1619\u001b[0m \u001b[43m        \u001b[49m\u001b[43mnames\u001b[49m\u001b[38;5;241;43m=\u001b[39;49m\u001b[43mnames\u001b[49m\u001b[43m,\u001b[49m\n\u001b[1;32m   1620\u001b[0m \u001b[43m        \u001b[49m\u001b[43mindex_col\u001b[49m\u001b[38;5;241;43m=\u001b[39;49m\u001b[43mindex_col\u001b[49m\u001b[43m,\u001b[49m\n\u001b[1;32m   1621\u001b[0m \u001b[43m        \u001b[49m\u001b[43musecols\u001b[49m\u001b[38;5;241;43m=\u001b[39;49m\u001b[43musecols\u001b[49m\u001b[43m,\u001b[49m\n\u001b[1;32m   1622\u001b[0m \u001b[43m        \u001b[49m\u001b[43mconverters\u001b[49m\u001b[38;5;241;43m=\u001b[39;49m\u001b[43mconverters\u001b[49m\u001b[43m,\u001b[49m\n\u001b[1;32m   1623\u001b[0m \u001b[43m        \u001b[49m\u001b[43mtrue_values\u001b[49m\u001b[38;5;241;43m=\u001b[39;49m\u001b[43mtrue_values\u001b[49m\u001b[43m,\u001b[49m\n\u001b[1;32m   1624\u001b[0m \u001b[43m        \u001b[49m\u001b[43mfalse_values\u001b[49m\u001b[38;5;241;43m=\u001b[39;49m\u001b[43mfalse_values\u001b[49m\u001b[43m,\u001b[49m\n\u001b[1;32m   1625\u001b[0m \u001b[43m        \u001b[49m\u001b[43mskiprows\u001b[49m\u001b[38;5;241;43m=\u001b[39;49m\u001b[43mskiprows\u001b[49m\u001b[43m,\u001b[49m\n\u001b[1;32m   1626\u001b[0m \u001b[43m        \u001b[49m\u001b[43mnrows\u001b[49m\u001b[38;5;241;43m=\u001b[39;49m\u001b[43mnrows\u001b[49m\u001b[43m,\u001b[49m\n\u001b[1;32m   1627\u001b[0m \u001b[43m        \u001b[49m\u001b[43mna_values\u001b[49m\u001b[38;5;241;43m=\u001b[39;49m\u001b[43mna_values\u001b[49m\u001b[43m,\u001b[49m\n\u001b[1;32m   1628\u001b[0m \u001b[43m        \u001b[49m\u001b[43mparse_dates\u001b[49m\u001b[38;5;241;43m=\u001b[39;49m\u001b[43mparse_dates\u001b[49m\u001b[43m,\u001b[49m\n\u001b[1;32m   1629\u001b[0m \u001b[43m        \u001b[49m\u001b[43mdate_parser\u001b[49m\u001b[38;5;241;43m=\u001b[39;49m\u001b[43mdate_parser\u001b[49m\u001b[43m,\u001b[49m\n\u001b[1;32m   1630\u001b[0m \u001b[43m        \u001b[49m\u001b[43mdate_format\u001b[49m\u001b[38;5;241;43m=\u001b[39;49m\u001b[43mdate_format\u001b[49m\u001b[43m,\u001b[49m\n\u001b[1;32m   1631\u001b[0m \u001b[43m        \u001b[49m\u001b[43mthousands\u001b[49m\u001b[38;5;241;43m=\u001b[39;49m\u001b[43mthousands\u001b[49m\u001b[43m,\u001b[49m\n\u001b[1;32m   1632\u001b[0m \u001b[43m        \u001b[49m\u001b[43mcomment\u001b[49m\u001b[38;5;241;43m=\u001b[39;49m\u001b[43mcomment\u001b[49m\u001b[43m,\u001b[49m\n\u001b[1;32m   1633\u001b[0m \u001b[43m        \u001b[49m\u001b[43mskipfooter\u001b[49m\u001b[38;5;241;43m=\u001b[39;49m\u001b[43mskipfooter\u001b[49m\u001b[43m,\u001b[49m\n\u001b[1;32m   1634\u001b[0m \u001b[43m        \u001b[49m\u001b[43mdtype_backend\u001b[49m\u001b[38;5;241;43m=\u001b[39;49m\u001b[43mdtype_backend\u001b[49m\u001b[43m,\u001b[49m\n\u001b[1;32m   1635\u001b[0m \u001b[43m        \u001b[49m\u001b[38;5;241;43m*\u001b[39;49m\u001b[38;5;241;43m*\u001b[39;49m\u001b[43mkwds\u001b[49m\u001b[43m,\u001b[49m\n\u001b[1;32m   1636\u001b[0m \u001b[43m    \u001b[49m\u001b[43m)\u001b[49m\n",
      "File \u001b[0;32m/Library/Frameworks/Python.framework/Versions/3.12/lib/python3.12/site-packages/pandas/io/excel/_base.py:773\u001b[0m, in \u001b[0;36mBaseExcelReader.parse\u001b[0;34m(self, sheet_name, header, names, index_col, usecols, dtype, true_values, false_values, skiprows, nrows, na_values, verbose, parse_dates, date_parser, date_format, thousands, decimal, comment, skipfooter, dtype_backend, **kwds)\u001b[0m\n\u001b[1;32m    770\u001b[0m     \u001b[38;5;28mprint\u001b[39m(\u001b[38;5;124mf\u001b[39m\u001b[38;5;124m\"\u001b[39m\u001b[38;5;124mReading sheet \u001b[39m\u001b[38;5;132;01m{\u001b[39;00masheetname\u001b[38;5;132;01m}\u001b[39;00m\u001b[38;5;124m\"\u001b[39m)\n\u001b[1;32m    772\u001b[0m \u001b[38;5;28;01mif\u001b[39;00m \u001b[38;5;28misinstance\u001b[39m(asheetname, \u001b[38;5;28mstr\u001b[39m):\n\u001b[0;32m--> 773\u001b[0m     sheet \u001b[38;5;241m=\u001b[39m \u001b[38;5;28;43mself\u001b[39;49m\u001b[38;5;241;43m.\u001b[39;49m\u001b[43mget_sheet_by_name\u001b[49m\u001b[43m(\u001b[49m\u001b[43masheetname\u001b[49m\u001b[43m)\u001b[49m\n\u001b[1;32m    774\u001b[0m \u001b[38;5;28;01melse\u001b[39;00m:  \u001b[38;5;66;03m# assume an integer if not a string\u001b[39;00m\n\u001b[1;32m    775\u001b[0m     sheet \u001b[38;5;241m=\u001b[39m \u001b[38;5;28mself\u001b[39m\u001b[38;5;241m.\u001b[39mget_sheet_by_index(asheetname)\n",
      "File \u001b[0;32m/Library/Frameworks/Python.framework/Versions/3.12/lib/python3.12/site-packages/pandas/io/excel/_openpyxl.py:582\u001b[0m, in \u001b[0;36mOpenpyxlReader.get_sheet_by_name\u001b[0;34m(self, name)\u001b[0m\n\u001b[1;32m    581\u001b[0m \u001b[38;5;28;01mdef\u001b[39;00m \u001b[38;5;21mget_sheet_by_name\u001b[39m(\u001b[38;5;28mself\u001b[39m, name: \u001b[38;5;28mstr\u001b[39m):\n\u001b[0;32m--> 582\u001b[0m     \u001b[38;5;28;43mself\u001b[39;49m\u001b[38;5;241;43m.\u001b[39;49m\u001b[43mraise_if_bad_sheet_by_name\u001b[49m\u001b[43m(\u001b[49m\u001b[43mname\u001b[49m\u001b[43m)\u001b[49m\n\u001b[1;32m    583\u001b[0m     \u001b[38;5;28;01mreturn\u001b[39;00m \u001b[38;5;28mself\u001b[39m\u001b[38;5;241m.\u001b[39mbook[name]\n",
      "File \u001b[0;32m/Library/Frameworks/Python.framework/Versions/3.12/lib/python3.12/site-packages/pandas/io/excel/_base.py:624\u001b[0m, in \u001b[0;36mBaseExcelReader.raise_if_bad_sheet_by_name\u001b[0;34m(self, name)\u001b[0m\n\u001b[1;32m    622\u001b[0m \u001b[38;5;28;01mdef\u001b[39;00m \u001b[38;5;21mraise_if_bad_sheet_by_name\u001b[39m(\u001b[38;5;28mself\u001b[39m, name: \u001b[38;5;28mstr\u001b[39m) \u001b[38;5;241m-\u001b[39m\u001b[38;5;241m>\u001b[39m \u001b[38;5;28;01mNone\u001b[39;00m:\n\u001b[1;32m    623\u001b[0m     \u001b[38;5;28;01mif\u001b[39;00m name \u001b[38;5;129;01mnot\u001b[39;00m \u001b[38;5;129;01min\u001b[39;00m \u001b[38;5;28mself\u001b[39m\u001b[38;5;241m.\u001b[39msheet_names:\n\u001b[0;32m--> 624\u001b[0m         \u001b[38;5;28;01mraise\u001b[39;00m \u001b[38;5;167;01mValueError\u001b[39;00m(\u001b[38;5;124mf\u001b[39m\u001b[38;5;124m\"\u001b[39m\u001b[38;5;124mWorksheet named \u001b[39m\u001b[38;5;124m'\u001b[39m\u001b[38;5;132;01m{\u001b[39;00mname\u001b[38;5;132;01m}\u001b[39;00m\u001b[38;5;124m'\u001b[39m\u001b[38;5;124m not found\u001b[39m\u001b[38;5;124m\"\u001b[39m)\n",
      "\u001b[0;31mValueError\u001b[0m: Worksheet named 'Summary_Act' not found"
     ]
    }
   ],
   "source": [
    "excel_path = \"example/DoesCal.xlsx\"\n",
    "df = pd.read_excel(excel_path, sheet_name='Summary_Act')\n",
    "\n",
    "t = \"1days\"\n",
    "df['t1/2_seconds'] = df.apply(lambda row: row['t1/2'] * HalfLife_Unit_Factor(row['unit']), axis=1)\n",
    "match = re.match(r'(\\d+\\.?\\d*)\\s*([a-zA-Z]+)', t);\n",
    "t_value = float(match.group(1))\n",
    "t_unit = match.group(2)\n",
    "t_second = t_value * HalfLife_Unit_Factor(t_unit[0])\n",
    "df[f'A(Bq)@t={t}'] = df.apply(lambda row: row['A(Bq)@cd = 0s'] * np.exp(-0.693 * t_second / row['t1/2_seconds']) if row['t1/2_seconds'] > 0 else 0, axis=1)\n"
   ]
  },
  {
   "cell_type": "code",
   "execution_count": 19,
   "id": "a8b8f7d7-ab6c-4d0f-81c7-b9e1e8aae5e4",
   "metadata": {},
   "outputs": [],
   "source": [
    "def Cal_A_cd(excep_path, t):\n",
    "    df = pd.read_excel(excel_path, sheet_name='Summary_Act')\n",
    "    df['t1/2_seconds'] = df.apply(lambda row: row['t1/2'] * HalfLife_Unit_Factor(row['unit']), axis=1)\n",
    "    match = re.match(r'(\\d+\\.?\\d*)\\s*([a-zA-Z]+)', t);\n",
    "    t_value = float(match.group(1))\n",
    "    t_unit = match.group(2)\n",
    "    t_seconds = t_value * HalfLife_Unit_Factor(t_unit[0])\n",
    "    df[f'A(Bq)@t={t}'] = df.apply(\n",
    "                                   lambda row: round(row['A(Bq)@cd = 0s'] * np.exp(-0.693 * t_seconds / row['t1/2_seconds']), 2) \n",
    "                                   if row['t1/2_seconds'] > 0 else 0, axis=1)\n",
    "    \n",
    "    df = df.drop(columns=['t1/2_seconds'])\n",
    "    # Save the updated workbook\n",
    "    with pd.ExcelWriter(excel_path, engine='openpyxl', mode='a', if_sheet_exists = 'replace') as writer:\n",
    "        df.to_excel(writer, sheet_name='Summary_Act', index=False)\n",
    "\n",
    "    # Reopen the workbook to apply formatting\n",
    "    workbook = load_workbook(excel_path)\n",
    "    # Set column width and alignment for the new sheet\n",
    "    worksheet = workbook['Summary_Act']\n",
    "    for column in worksheet.columns:\n",
    "        column_letter = column[0].column_letter\n",
    "        worksheet.column_dimensions[column_letter].width = 14\n",
    "        for cell in column:  # Align each cell in the column\n",
    "            cell.alignment = Alignment(horizontal='right')\n",
    "            # Save the workbook\n",
    "    workbook.save(excel_path)\n"
   ]
  },
  {
   "cell_type": "code",
   "execution_count": 20,
   "id": "f7944922-799c-4ad3-bc16-1be1be53ed3b",
   "metadata": {},
   "outputs": [],
   "source": [
    "excel_path = \"example/DoesCal.xlsx\"\n",
    "#summarize(excel_path)\n",
    "Cal_A_cd(excel_path, '13 hour')"
   ]
  },
  {
   "cell_type": "code",
   "execution_count": null,
   "id": "a95faf0d-1b09-4cd2-95b9-829e07f7c0f0",
   "metadata": {},
   "outputs": [],
   "source": []
  }
 ],
 "metadata": {
  "kernelspec": {
   "display_name": "Python 3 (ipykernel)",
   "language": "python",
   "name": "python3"
  },
  "language_info": {
   "codemirror_mode": {
    "name": "ipython",
    "version": 3
   },
   "file_extension": ".py",
   "mimetype": "text/x-python",
   "name": "python",
   "nbconvert_exporter": "python",
   "pygments_lexer": "ipython3",
   "version": "3.12.0"
  }
 },
 "nbformat": 4,
 "nbformat_minor": 5
}
